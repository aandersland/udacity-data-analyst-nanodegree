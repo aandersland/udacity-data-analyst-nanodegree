{
 "cells": [
  {
   "cell_type": "markdown",
   "metadata": {},
   "source": [
    "# WeRateDogs Wrangling\n",
    "## [Gather](#gather)\n",
    "* [Twitter archive file ](#archive)\n",
    "* [Image prediction file ](#image)\n",
    "* [Twitter API ](#api)\n",
    "\n",
    "## [Assess ](#assess)\n",
    "*  [Visual inspection ](#visual)\n",
    "*  [Programatic inspection ](#programatic)\n",
    "\n",
    "## [Clean](#clean)\n",
    "*  [Define - Quality: Update the data type of timestamp to a timestamp instead of string](#clean1)\n",
    "*  [Define - Quality: Remove rows that are replies to other tweets](#clean2)\n",
    "*  [Define - Quality: Remove rows that are retweets ](#clean3)\n",
    "*  [Define - Quality: Remove reply and retweet columns from the dataframe](#clean4)\n",
    "*  [Define - Tidiness: Dog stages need to be combined into one column](#clean5)\n",
    "*  [Define - Quality: Change rating_numerator and rating_denominator to floats](#clean14)\n",
    "*  [Define Quality: Incorrect values in rating numerators](#clean15)\n",
    "*  [Define - Tidiness: Join all tweet information into one dataframe](#clean6)\n",
    "*  [Define - Quality: Drop unused twitter columns](#clean7)\n",
    "*  [Define - Quality: Drop all rows that do not have retweet or favorite values](#clean8)\n",
    "*  [Define - Quality: Remove _'s from the p1, p2, and p3 columns](#clean10)\n",
    "*  [Define - Quality: Capitalize the first letter in each word](#clean11)\n",
    "*  [Define - Tidiness: Determine the best prediction of dog type](#clean12)\n",
    "*  [Define - Quality: Remove unused image prediction columns](#clean13)\n",
    "*  [Merge final datasets into one dataframe for graphs ](#merge)\n",
    "*  [Create prediction categories ](#categories)\n",
    "*  [Define - Quality: Drop NA rows in dataframe](#clean16)\n",
    "\n",
    "## [Analyze](#analyze)\n",
    "*  [1.Does the dog prediction confidence level have any relation to the number of retweets or favorites?](#question1)\n",
    "*  [2.Has the prediction confidence changed over time?](#question2)\n",
    "*  [3. What types of dogs are the most popular on the site?](#question3)"
   ]
  },
  {
   "cell_type": "code",
   "execution_count": 37,
   "metadata": {},
   "outputs": [],
   "source": [
    "import pandas as pd\n",
    "import numpy as np\n",
    "import matplotlib.pyplot as plt\n",
    "import requests\n",
    "import json\n",
    "import tweepy\n",
    "import time\n",
    "\n",
    "%matplotlib inline"
   ]
  },
  {
   "cell_type": "markdown",
   "metadata": {},
   "source": [
    "## Gather <a name='gather'></a>"
   ]
  },
  {
   "cell_type": "markdown",
   "metadata": {},
   "source": [
    "### Twitter archive file  <a name='archive'></a>"
   ]
  },
  {
   "cell_type": "code",
   "execution_count": 38,
   "metadata": {},
   "outputs": [
    {
     "data": {
      "text/html": [
       "<div>\n",
       "<style scoped>\n",
       "    .dataframe tbody tr th:only-of-type {\n",
       "        vertical-align: middle;\n",
       "    }\n",
       "\n",
       "    .dataframe tbody tr th {\n",
       "        vertical-align: top;\n",
       "    }\n",
       "\n",
       "    .dataframe thead th {\n",
       "        text-align: right;\n",
       "    }\n",
       "</style>\n",
       "<table border=\"1\" class=\"dataframe\">\n",
       "  <thead>\n",
       "    <tr style=\"text-align: right;\">\n",
       "      <th></th>\n",
       "      <th>tweet_id</th>\n",
       "      <th>in_reply_to_status_id</th>\n",
       "      <th>in_reply_to_user_id</th>\n",
       "      <th>timestamp</th>\n",
       "      <th>source</th>\n",
       "      <th>text</th>\n",
       "      <th>retweeted_status_id</th>\n",
       "      <th>retweeted_status_user_id</th>\n",
       "      <th>retweeted_status_timestamp</th>\n",
       "      <th>expanded_urls</th>\n",
       "      <th>rating_numerator</th>\n",
       "      <th>rating_denominator</th>\n",
       "      <th>name</th>\n",
       "      <th>doggo</th>\n",
       "      <th>floofer</th>\n",
       "      <th>pupper</th>\n",
       "      <th>puppo</th>\n",
       "    </tr>\n",
       "  </thead>\n",
       "  <tbody>\n",
       "    <tr>\n",
       "      <th>0</th>\n",
       "      <td>892420643555336193</td>\n",
       "      <td>NaN</td>\n",
       "      <td>NaN</td>\n",
       "      <td>2017-08-01 16:23:56 +0000</td>\n",
       "      <td>&lt;a href=\"http://twitter.com/download/iphone\" r...</td>\n",
       "      <td>This is Phineas. He's a mystical boy. Only eve...</td>\n",
       "      <td>NaN</td>\n",
       "      <td>NaN</td>\n",
       "      <td>NaN</td>\n",
       "      <td>https://twitter.com/dog_rates/status/892420643...</td>\n",
       "      <td>13</td>\n",
       "      <td>10</td>\n",
       "      <td>Phineas</td>\n",
       "      <td>None</td>\n",
       "      <td>None</td>\n",
       "      <td>None</td>\n",
       "      <td>None</td>\n",
       "    </tr>\n",
       "  </tbody>\n",
       "</table>\n",
       "</div>"
      ],
      "text/plain": [
       "             tweet_id  in_reply_to_status_id  in_reply_to_user_id  \\\n",
       "0  892420643555336193                    NaN                  NaN   \n",
       "\n",
       "                   timestamp  \\\n",
       "0  2017-08-01 16:23:56 +0000   \n",
       "\n",
       "                                              source  \\\n",
       "0  <a href=\"http://twitter.com/download/iphone\" r...   \n",
       "\n",
       "                                                text  retweeted_status_id  \\\n",
       "0  This is Phineas. He's a mystical boy. Only eve...                  NaN   \n",
       "\n",
       "   retweeted_status_user_id retweeted_status_timestamp  \\\n",
       "0                       NaN                        NaN   \n",
       "\n",
       "                                       expanded_urls  rating_numerator  \\\n",
       "0  https://twitter.com/dog_rates/status/892420643...                13   \n",
       "\n",
       "   rating_denominator     name doggo floofer pupper puppo  \n",
       "0                  10  Phineas  None    None   None  None  "
      ]
     },
     "execution_count": 38,
     "metadata": {},
     "output_type": "execute_result"
    }
   ],
   "source": [
    "# load twitter archive file to df\n",
    "df_twitter_archive = pd.read_csv('twitter-archive-enhanced.csv')\n",
    "df_twitter_archive.head(1)"
   ]
  },
  {
   "cell_type": "markdown",
   "metadata": {},
   "source": [
    "### Image prediction file  <a name='image'></a>"
   ]
  },
  {
   "cell_type": "code",
   "execution_count": 3,
   "metadata": {},
   "outputs": [],
   "source": [
    "# gather image predictions file using requests\n",
    "r = requests.get('https://d17h27t6h515a5.cloudfront.net/topher/2017/August/599fd2ad_image-predictions/image-predictions.tsv', stream=True)\n",
    "\n",
    "with open('image-predictions.tsv', 'wb') as fd:\n",
    "    for chunk in r.iter_content(chunk_size=128):\n",
    "        fd.write(chunk)\n",
    "    fd.close()"
   ]
  },
  {
   "cell_type": "code",
   "execution_count": 39,
   "metadata": {},
   "outputs": [
    {
     "data": {
      "text/html": [
       "<div>\n",
       "<style scoped>\n",
       "    .dataframe tbody tr th:only-of-type {\n",
       "        vertical-align: middle;\n",
       "    }\n",
       "\n",
       "    .dataframe tbody tr th {\n",
       "        vertical-align: top;\n",
       "    }\n",
       "\n",
       "    .dataframe thead th {\n",
       "        text-align: right;\n",
       "    }\n",
       "</style>\n",
       "<table border=\"1\" class=\"dataframe\">\n",
       "  <thead>\n",
       "    <tr style=\"text-align: right;\">\n",
       "      <th></th>\n",
       "      <th>tweet_id</th>\n",
       "      <th>jpg_url</th>\n",
       "      <th>img_num</th>\n",
       "      <th>p1</th>\n",
       "      <th>p1_conf</th>\n",
       "      <th>p1_dog</th>\n",
       "      <th>p2</th>\n",
       "      <th>p2_conf</th>\n",
       "      <th>p2_dog</th>\n",
       "      <th>p3</th>\n",
       "      <th>p3_conf</th>\n",
       "      <th>p3_dog</th>\n",
       "    </tr>\n",
       "  </thead>\n",
       "  <tbody>\n",
       "    <tr>\n",
       "      <th>0</th>\n",
       "      <td>666020888022790149</td>\n",
       "      <td>https://pbs.twimg.com/media/CT4udn0WwAA0aMy.jpg</td>\n",
       "      <td>1</td>\n",
       "      <td>Welsh_springer_spaniel</td>\n",
       "      <td>0.465074</td>\n",
       "      <td>True</td>\n",
       "      <td>collie</td>\n",
       "      <td>0.156665</td>\n",
       "      <td>True</td>\n",
       "      <td>Shetland_sheepdog</td>\n",
       "      <td>0.061428</td>\n",
       "      <td>True</td>\n",
       "    </tr>\n",
       "  </tbody>\n",
       "</table>\n",
       "</div>"
      ],
      "text/plain": [
       "             tweet_id                                          jpg_url  \\\n",
       "0  666020888022790149  https://pbs.twimg.com/media/CT4udn0WwAA0aMy.jpg   \n",
       "\n",
       "   img_num                      p1   p1_conf  p1_dog      p2   p2_conf  \\\n",
       "0        1  Welsh_springer_spaniel  0.465074    True  collie  0.156665   \n",
       "\n",
       "   p2_dog                 p3   p3_conf  p3_dog  \n",
       "0    True  Shetland_sheepdog  0.061428    True  "
      ]
     },
     "execution_count": 39,
     "metadata": {},
     "output_type": "execute_result"
    }
   ],
   "source": [
    "# load image prediction file to df\n",
    "df_image_pred = pd.read_csv('image-predictions.tsv', sep='\\t')\n",
    "df_image_pred.head(1)"
   ]
  },
  {
   "cell_type": "markdown",
   "metadata": {},
   "source": [
    "### Twitter API  <a name='api'></a>"
   ]
  },
  {
   "cell_type": "code",
   "execution_count": 5,
   "metadata": {},
   "outputs": [],
   "source": [
    "# setup twitter connection with tweepy\n",
    "consumer_key = ''\n",
    "consumer_secret = ''\n",
    "access_token = ''\n",
    "access_secret = ''\n",
    "\n",
    "auth = tweepy.OAuthHandler(consumer_key, consumer_secret)\n",
    "auth.set_access_token(access_token, access_secret)\n",
    "\n",
    "api = tweepy.API(auth, wait_on_rate_limit=True, wait_on_rate_limit_notify=True)"
   ]
  },
  {
   "cell_type": "code",
   "execution_count": 6,
   "metadata": {},
   "outputs": [],
   "source": [
    "# gather additional tweet data using api\n",
    "twitter_data = {}\n",
    "twitter_data['info'] = []\n",
    "\n",
    "twitter_missing = {}\n",
    "twitter_missing['ids'] = []"
   ]
  },
  {
   "cell_type": "code",
   "execution_count": 7,
   "metadata": {},
   "outputs": [
    {
     "name": "stdout",
     "output_type": "stream",
     "text": [
      "Total : 2075 Processed: 0\n",
      "Status requests: 178 Record requests: 900 Time to reset: 2018-12-01 14:55:49\n",
      "Limit: 899 Remaining: 2074\n",
      "Limit: 849 Remaining: 2024\n",
      "Limit: 799 Remaining: 1974\n",
      "Limit: 749 Remaining: 1924\n",
      "Limit: 699 Remaining: 1874\n",
      "Limit: 649 Remaining: 1824\n",
      "Limit: 599 Remaining: 1774\n",
      "Limit: 549 Remaining: 1724\n",
      "Limit: 499 Remaining: 1674\n",
      "Limit: 449 Remaining: 1624\n",
      "Limit: 399 Remaining: 1574\n",
      "Limit: 349 Remaining: 1524\n",
      "Limit: 299 Remaining: 1474\n",
      "Limit: 249 Remaining: 1424\n",
      "Limit: 199 Remaining: 1374\n",
      "Limit: 149 Remaining: 1324\n",
      "Limit: 99 Remaining: 1274\n",
      "Limit: 49 Remaining: 1224\n",
      "Total : 2075 Processed: 900\n",
      "Sleeping until: 2018-12-01 14:55:49\n",
      "EXITING sleep, Status remaining: 176 Record remaining: 0 Time to reset 2018-12-01 14:55:49\n",
      "Total : 2075 Processed: 900\n",
      "Sleeping until: 2018-12-01 14:55:49\n",
      "EXITING sleep, Status remaining: 174 Record remaining: 0 Time to reset 2018-12-01 14:55:49\n",
      "Total : 2075 Processed: 900\n",
      "Sleeping until: 2018-12-01 14:55:49\n",
      "EXITING sleep, Status remaining: 179 Record remaining: 0 Time to reset 2018-12-01 15:10:49\n",
      "Total : 2075 Processed: 900\n",
      "Sleeping until: 2018-12-01 15:10:49\n",
      "EXITING sleep, Status remaining: 177 Record remaining: 900 Time to reset 2018-12-01 15:10:49\n",
      "Limit: 899 Remaining: 1174\n",
      "Limit: 849 Remaining: 1124\n",
      "Limit: 799 Remaining: 1074\n",
      "Limit: 749 Remaining: 1024\n",
      "Limit: 699 Remaining: 974\n",
      "Limit: 649 Remaining: 924\n",
      "Limit: 599 Remaining: 874\n",
      "Limit: 549 Remaining: 824\n",
      "Limit: 499 Remaining: 774\n",
      "Limit: 449 Remaining: 724\n",
      "Limit: 399 Remaining: 674\n",
      "Limit: 349 Remaining: 624\n",
      "Limit: 299 Remaining: 574\n",
      "Limit: 249 Remaining: 524\n",
      "Limit: 199 Remaining: 474\n",
      "Limit: 149 Remaining: 424\n",
      "Limit: 99 Remaining: 374\n",
      "Limit: 49 Remaining: 324\n",
      "Total : 2075 Processed: 1800\n",
      "Sleeping until: 2018-12-01 15:30:53\n",
      "EXITING sleep, Status remaining: 178 Record remaining: 900 Time to reset 2018-12-01 15:30:53\n",
      "Limit: 899 Remaining: 274\n",
      "Limit: 849 Remaining: 224\n",
      "Limit: 799 Remaining: 174\n",
      "Limit: 749 Remaining: 124\n",
      "Limit: 699 Remaining: 74\n",
      "Limit: 649 Remaining: 24\n",
      "Exiting\n"
     ]
    }
   ],
   "source": [
    "# variables for storing twitter limit information\n",
    "limit_id = 0\n",
    "limit_status = 0\n",
    "limit_time = None\n",
    "count_processed = 0\n",
    "\n",
    "# get current limit counts\n",
    "rate_limit_status = tweepy.API(auth).rate_limit_status()\n",
    "print('Total : '+str(len(df_image_pred))+' Processed: ' + str(count_processed))\n",
    "\n",
    "# loop thru all twitter id's to get additional info\n",
    "for user_id in df_image_pred.tweet_id:\n",
    "    \n",
    "    #set limit values\n",
    "    if limit_id == 0 and limit_status == 0 and limit_time is None:\n",
    "        rate_limit_status = tweepy.API(auth).rate_limit_status()\n",
    "        limit_status = rate_limit_status['resources']['application']['/application/rate_limit_status']['remaining']\n",
    "        limit_time = rate_limit_status['resources']['application']['/application/rate_limit_status']['reset']\n",
    "        limit_id = rate_limit_status['resources']['statuses']['/statuses/show/:id']['remaining']\n",
    "        \n",
    "        print('Status requests: ' + str(limit_status) + \\\n",
    "              ' Record requests: ' + str(limit_id) + \\\n",
    "              ' Time to reset: ' +  time.strftime('%Y-%m-%d %H:%M:%S', time.localtime(limit_time)))\n",
    "    \n",
    "    # get tweet info if we are within our limits\n",
    "    if limit_id > 0:\n",
    "        try:\n",
    "            if (limit_id+1) %50 == 0:\n",
    "                print('Limit: ' + str(limit_id) + ' Remaining: ' + str(len(df_image_pred) - count_processed))\n",
    "            \n",
    "            # get and store tweet information\n",
    "            tweet = tweepy.API(auth).get_status(user_id, tweet_mode='extended')\n",
    "            twitter_data['info'].append({'tweet_id': tweet.id, \n",
    "                    'retweet_count': tweet.retweet_count,\n",
    "                    'favorite_count': tweet.favorite_count\n",
    "                    })\n",
    "            \n",
    "            # keep track of processed and limit counts\n",
    "            count_processed += 1\n",
    "            limit_id -= 1\n",
    "        except:\n",
    "            # keep track of twitter id's without information\n",
    "            twitter_missing['ids'].append({'id': user_id})\n",
    "            # keep track of processed and limit counts\n",
    "            count_processed += 1\n",
    "            limit_id -= 1\n",
    "    else:\n",
    "        print('Total : '+str(len(df_image_pred))+' Processed: ' + str(count_processed))\n",
    "        \n",
    "        # get latest limit info\n",
    "        rate_limit_status = tweepy.API(auth).rate_limit_status()\n",
    "        limit_time = rate_limit_status['resources']['application']['/application/rate_limit_status']['reset']\n",
    "\n",
    "        # sleep until the limits are available again\n",
    "        print('Sleeping until: ' + time.strftime('%Y-%m-%d %H:%M:%S', time.localtime(limit_time)))\n",
    "        if (limit_time - time.time()) < 0:\n",
    "            time.sleep(0)\n",
    "        else:\n",
    "            time.sleep(limit_time - time.time())\n",
    "        \n",
    "        # get latest limit info\n",
    "        rate_limit_status = tweepy.API(auth).rate_limit_status()\n",
    "        limit_time = rate_limit_status['resources']['application']['/application/rate_limit_status']['reset']\n",
    "        limit_status = rate_limit_status['resources']['application']['/application/rate_limit_status']['remaining']\n",
    "        limit_id = rate_limit_status['resources']['statuses']['/statuses/show/:id']['remaining']\n",
    "\n",
    "        print('EXITING sleep, Status remaining: ' + str(limit_status) + \\\n",
    "              ' Record remaining: ' + str(limit_id) + \\\n",
    "              ' Time to reset ' +  time.strftime('%Y-%m-%d %H:%M:%S', time.localtime(limit_time)))\n",
    "\n",
    "print('Exiting')"
   ]
  },
  {
   "cell_type": "code",
   "execution_count": 8,
   "metadata": {},
   "outputs": [],
   "source": [
    "# dump twitter data to file\n",
    "with open('tweet_json.txt', 'w') as outfile:\n",
    "    for i in range(len(twitter_data['info'])):\n",
    "        tweetid = twitter_data['info'][i]['tweet_id']\n",
    "        retweetcount = twitter_data['info'][i]['retweet_count']\n",
    "        favoritecount = twitter_data['info'][i]['favorite_count']\n",
    "        outfile.write(str(tweetid) + ','+str(retweetcount)+','+str(favoritecount)+'\\n')"
   ]
  },
  {
   "cell_type": "code",
   "execution_count": 9,
   "metadata": {},
   "outputs": [],
   "source": [
    "# dump missing twitter data to file\n",
    "with open('tweet_json_missing.txt', 'w') as outfile:\n",
    "    for i in range(len(twitter_missing['ids'])):\n",
    "        missing_id = twitter_missing['ids'][i]['id']\n",
    "        outfile.write(str(missing_id) + '\\n')"
   ]
  },
  {
   "cell_type": "code",
   "execution_count": 40,
   "metadata": {},
   "outputs": [
    {
     "data": {
      "text/html": [
       "<div>\n",
       "<style scoped>\n",
       "    .dataframe tbody tr th:only-of-type {\n",
       "        vertical-align: middle;\n",
       "    }\n",
       "\n",
       "    .dataframe tbody tr th {\n",
       "        vertical-align: top;\n",
       "    }\n",
       "\n",
       "    .dataframe thead th {\n",
       "        text-align: right;\n",
       "    }\n",
       "</style>\n",
       "<table border=\"1\" class=\"dataframe\">\n",
       "  <thead>\n",
       "    <tr style=\"text-align: right;\">\n",
       "      <th></th>\n",
       "      <th>tweet_id</th>\n",
       "      <th>retweet_count</th>\n",
       "      <th>favorite_count</th>\n",
       "    </tr>\n",
       "  </thead>\n",
       "  <tbody>\n",
       "    <tr>\n",
       "      <th>0</th>\n",
       "      <td>666020888022790149</td>\n",
       "      <td>507</td>\n",
       "      <td>2539</td>\n",
       "    </tr>\n",
       "  </tbody>\n",
       "</table>\n",
       "</div>"
      ],
      "text/plain": [
       "             tweet_id  retweet_count  favorite_count\n",
       "0  666020888022790149            507            2539"
      ]
     },
     "execution_count": 40,
     "metadata": {},
     "output_type": "execute_result"
    }
   ],
   "source": [
    "df_tweet_json = pd.read_csv('tweet_json.txt',header=None, \\\n",
    "                            names=['tweet_id','retweet_count','favorite_count'])\n",
    "df_tweet_json.head(1)"
   ]
  },
  {
   "cell_type": "code",
   "execution_count": 41,
   "metadata": {},
   "outputs": [
    {
     "data": {
      "text/html": [
       "<div>\n",
       "<style scoped>\n",
       "    .dataframe tbody tr th:only-of-type {\n",
       "        vertical-align: middle;\n",
       "    }\n",
       "\n",
       "    .dataframe tbody tr th {\n",
       "        vertical-align: top;\n",
       "    }\n",
       "\n",
       "    .dataframe thead th {\n",
       "        text-align: right;\n",
       "    }\n",
       "</style>\n",
       "<table border=\"1\" class=\"dataframe\">\n",
       "  <thead>\n",
       "    <tr style=\"text-align: right;\">\n",
       "      <th></th>\n",
       "      <th>missing_id</th>\n",
       "    </tr>\n",
       "  </thead>\n",
       "  <tbody>\n",
       "    <tr>\n",
       "      <th>0</th>\n",
       "      <td>754011816964026368</td>\n",
       "    </tr>\n",
       "  </tbody>\n",
       "</table>\n",
       "</div>"
      ],
      "text/plain": [
       "           missing_id\n",
       "0  754011816964026368"
      ]
     },
     "execution_count": 41,
     "metadata": {},
     "output_type": "execute_result"
    }
   ],
   "source": [
    "df_tweet_json_missing = pd.read_csv('tweet_json_missing.txt',header=None, \\\n",
    "                            names=['missing_id'])\n",
    "df_tweet_json_missing.head(1)"
   ]
  },
  {
   "cell_type": "markdown",
   "metadata": {},
   "source": [
    "## Assess  <a name='assess'></a>"
   ]
  },
  {
   "cell_type": "markdown",
   "metadata": {},
   "source": [
    "### Visual inspection  <a name='visual'></a>"
   ]
  },
  {
   "cell_type": "code",
   "execution_count": 42,
   "metadata": {},
   "outputs": [
    {
     "data": {
      "text/html": [
       "<div>\n",
       "<style scoped>\n",
       "    .dataframe tbody tr th:only-of-type {\n",
       "        vertical-align: middle;\n",
       "    }\n",
       "\n",
       "    .dataframe tbody tr th {\n",
       "        vertical-align: top;\n",
       "    }\n",
       "\n",
       "    .dataframe thead th {\n",
       "        text-align: right;\n",
       "    }\n",
       "</style>\n",
       "<table border=\"1\" class=\"dataframe\">\n",
       "  <thead>\n",
       "    <tr style=\"text-align: right;\">\n",
       "      <th></th>\n",
       "      <th>tweet_id</th>\n",
       "      <th>in_reply_to_status_id</th>\n",
       "      <th>in_reply_to_user_id</th>\n",
       "      <th>timestamp</th>\n",
       "      <th>source</th>\n",
       "      <th>text</th>\n",
       "      <th>retweeted_status_id</th>\n",
       "      <th>retweeted_status_user_id</th>\n",
       "      <th>retweeted_status_timestamp</th>\n",
       "      <th>expanded_urls</th>\n",
       "      <th>rating_numerator</th>\n",
       "      <th>rating_denominator</th>\n",
       "      <th>name</th>\n",
       "      <th>doggo</th>\n",
       "      <th>floofer</th>\n",
       "      <th>pupper</th>\n",
       "      <th>puppo</th>\n",
       "    </tr>\n",
       "  </thead>\n",
       "  <tbody>\n",
       "    <tr>\n",
       "      <th>1446</th>\n",
       "      <td>696490539101908992</td>\n",
       "      <td>6.964887e+17</td>\n",
       "      <td>4.196984e+09</td>\n",
       "      <td>2016-02-08 00:27:39 +0000</td>\n",
       "      <td>&lt;a href=\"http://twitter.com/download/iphone\" r...</td>\n",
       "      <td>After reading the comments I may have overesti...</td>\n",
       "      <td>NaN</td>\n",
       "      <td>NaN</td>\n",
       "      <td>NaN</td>\n",
       "      <td>NaN</td>\n",
       "      <td>1</td>\n",
       "      <td>10</td>\n",
       "      <td>None</td>\n",
       "      <td>None</td>\n",
       "      <td>None</td>\n",
       "      <td>None</td>\n",
       "      <td>None</td>\n",
       "    </tr>\n",
       "    <tr>\n",
       "      <th>1079</th>\n",
       "      <td>739238157791694849</td>\n",
       "      <td>NaN</td>\n",
       "      <td>NaN</td>\n",
       "      <td>2016-06-04 23:31:25 +0000</td>\n",
       "      <td>&lt;a href=\"http://twitter.com/download/iphone\" r...</td>\n",
       "      <td>Here's a doggo blowing bubbles. It's downright...</td>\n",
       "      <td>NaN</td>\n",
       "      <td>NaN</td>\n",
       "      <td>NaN</td>\n",
       "      <td>https://twitter.com/dog_rates/status/739238157...</td>\n",
       "      <td>13</td>\n",
       "      <td>10</td>\n",
       "      <td>None</td>\n",
       "      <td>doggo</td>\n",
       "      <td>None</td>\n",
       "      <td>None</td>\n",
       "      <td>None</td>\n",
       "    </tr>\n",
       "    <tr>\n",
       "      <th>1907</th>\n",
       "      <td>674447403907457024</td>\n",
       "      <td>NaN</td>\n",
       "      <td>NaN</td>\n",
       "      <td>2015-12-09 04:36:06 +0000</td>\n",
       "      <td>&lt;a href=\"http://twitter.com/download/iphone\" r...</td>\n",
       "      <td>This pupper just wants a belly rub. This puppe...</td>\n",
       "      <td>NaN</td>\n",
       "      <td>NaN</td>\n",
       "      <td>NaN</td>\n",
       "      <td>https://twitter.com/dog_rates/status/674447403...</td>\n",
       "      <td>10</td>\n",
       "      <td>10</td>\n",
       "      <td>None</td>\n",
       "      <td>None</td>\n",
       "      <td>None</td>\n",
       "      <td>pupper</td>\n",
       "      <td>None</td>\n",
       "    </tr>\n",
       "    <tr>\n",
       "      <th>1880</th>\n",
       "      <td>675006312288268288</td>\n",
       "      <td>NaN</td>\n",
       "      <td>NaN</td>\n",
       "      <td>2015-12-10 17:37:00 +0000</td>\n",
       "      <td>&lt;a href=\"http://twitter.com/download/iphone\" r...</td>\n",
       "      <td>Say hello to Mollie. This pic was taken after ...</td>\n",
       "      <td>NaN</td>\n",
       "      <td>NaN</td>\n",
       "      <td>NaN</td>\n",
       "      <td>https://twitter.com/dog_rates/status/675006312...</td>\n",
       "      <td>10</td>\n",
       "      <td>10</td>\n",
       "      <td>Mollie</td>\n",
       "      <td>None</td>\n",
       "      <td>None</td>\n",
       "      <td>pupper</td>\n",
       "      <td>None</td>\n",
       "    </tr>\n",
       "    <tr>\n",
       "      <th>62</th>\n",
       "      <td>880095782870896641</td>\n",
       "      <td>NaN</td>\n",
       "      <td>NaN</td>\n",
       "      <td>2017-06-28 16:09:20 +0000</td>\n",
       "      <td>&lt;a href=\"http://twitter.com/download/iphone\" r...</td>\n",
       "      <td>Please don't send in photos without dogs in th...</td>\n",
       "      <td>NaN</td>\n",
       "      <td>NaN</td>\n",
       "      <td>NaN</td>\n",
       "      <td>https://twitter.com/dog_rates/status/880095782...</td>\n",
       "      <td>11</td>\n",
       "      <td>10</td>\n",
       "      <td>None</td>\n",
       "      <td>None</td>\n",
       "      <td>None</td>\n",
       "      <td>None</td>\n",
       "      <td>None</td>\n",
       "    </tr>\n",
       "    <tr>\n",
       "      <th>854</th>\n",
       "      <td>765222098633691136</td>\n",
       "      <td>NaN</td>\n",
       "      <td>NaN</td>\n",
       "      <td>2016-08-15 16:22:20 +0000</td>\n",
       "      <td>&lt;a href=\"http://twitter.com/download/iphone\" r...</td>\n",
       "      <td>This is Gromit. He's pupset because there's no...</td>\n",
       "      <td>NaN</td>\n",
       "      <td>NaN</td>\n",
       "      <td>NaN</td>\n",
       "      <td>https://twitter.com/dog_rates/status/765222098...</td>\n",
       "      <td>10</td>\n",
       "      <td>10</td>\n",
       "      <td>Gromit</td>\n",
       "      <td>None</td>\n",
       "      <td>None</td>\n",
       "      <td>None</td>\n",
       "      <td>None</td>\n",
       "    </tr>\n",
       "    <tr>\n",
       "      <th>2107</th>\n",
       "      <td>670465786746662913</td>\n",
       "      <td>NaN</td>\n",
       "      <td>NaN</td>\n",
       "      <td>2015-11-28 04:54:34 +0000</td>\n",
       "      <td>&lt;a href=\"http://twitter.com/download/iphone\" r...</td>\n",
       "      <td>Silly dog here. Wearing bunny ears. Nice long ...</td>\n",
       "      <td>NaN</td>\n",
       "      <td>NaN</td>\n",
       "      <td>NaN</td>\n",
       "      <td>https://twitter.com/dog_rates/status/670465786...</td>\n",
       "      <td>7</td>\n",
       "      <td>10</td>\n",
       "      <td>None</td>\n",
       "      <td>None</td>\n",
       "      <td>None</td>\n",
       "      <td>None</td>\n",
       "      <td>None</td>\n",
       "    </tr>\n",
       "    <tr>\n",
       "      <th>402</th>\n",
       "      <td>824325613288833024</td>\n",
       "      <td>NaN</td>\n",
       "      <td>NaN</td>\n",
       "      <td>2017-01-25 18:38:36 +0000</td>\n",
       "      <td>&lt;a href=\"http://twitter.com/download/iphone\" r...</td>\n",
       "      <td>Retweet the h*ck out of this 13/10 pupper #Bel...</td>\n",
       "      <td>NaN</td>\n",
       "      <td>NaN</td>\n",
       "      <td>NaN</td>\n",
       "      <td>https://twitter.com/dog_rates/status/824325613...</td>\n",
       "      <td>13</td>\n",
       "      <td>10</td>\n",
       "      <td>None</td>\n",
       "      <td>None</td>\n",
       "      <td>None</td>\n",
       "      <td>pupper</td>\n",
       "      <td>None</td>\n",
       "    </tr>\n",
       "    <tr>\n",
       "      <th>1691</th>\n",
       "      <td>681320187870711809</td>\n",
       "      <td>NaN</td>\n",
       "      <td>NaN</td>\n",
       "      <td>2015-12-28 03:46:05 +0000</td>\n",
       "      <td>&lt;a href=\"http://twitter.com/download/iphone\" r...</td>\n",
       "      <td>This is Glacier. He's a very happy pup. Loves ...</td>\n",
       "      <td>NaN</td>\n",
       "      <td>NaN</td>\n",
       "      <td>NaN</td>\n",
       "      <td>https://twitter.com/dog_rates/status/681320187...</td>\n",
       "      <td>11</td>\n",
       "      <td>10</td>\n",
       "      <td>Glacier</td>\n",
       "      <td>None</td>\n",
       "      <td>None</td>\n",
       "      <td>None</td>\n",
       "      <td>None</td>\n",
       "    </tr>\n",
       "    <tr>\n",
       "      <th>390</th>\n",
       "      <td>826240494070030336</td>\n",
       "      <td>NaN</td>\n",
       "      <td>NaN</td>\n",
       "      <td>2017-01-31 01:27:39 +0000</td>\n",
       "      <td>&lt;a href=\"http://twitter.com/download/iphone\" r...</td>\n",
       "      <td>We only rate dogs. Please don't send in any mo...</td>\n",
       "      <td>NaN</td>\n",
       "      <td>NaN</td>\n",
       "      <td>NaN</td>\n",
       "      <td>https://twitter.com/dog_rates/status/826240494...</td>\n",
       "      <td>11</td>\n",
       "      <td>10</td>\n",
       "      <td>None</td>\n",
       "      <td>None</td>\n",
       "      <td>None</td>\n",
       "      <td>None</td>\n",
       "      <td>None</td>\n",
       "    </tr>\n",
       "  </tbody>\n",
       "</table>\n",
       "</div>"
      ],
      "text/plain": [
       "                tweet_id  in_reply_to_status_id  in_reply_to_user_id  \\\n",
       "1446  696490539101908992           6.964887e+17         4.196984e+09   \n",
       "1079  739238157791694849                    NaN                  NaN   \n",
       "1907  674447403907457024                    NaN                  NaN   \n",
       "1880  675006312288268288                    NaN                  NaN   \n",
       "62    880095782870896641                    NaN                  NaN   \n",
       "854   765222098633691136                    NaN                  NaN   \n",
       "2107  670465786746662913                    NaN                  NaN   \n",
       "402   824325613288833024                    NaN                  NaN   \n",
       "1691  681320187870711809                    NaN                  NaN   \n",
       "390   826240494070030336                    NaN                  NaN   \n",
       "\n",
       "                      timestamp  \\\n",
       "1446  2016-02-08 00:27:39 +0000   \n",
       "1079  2016-06-04 23:31:25 +0000   \n",
       "1907  2015-12-09 04:36:06 +0000   \n",
       "1880  2015-12-10 17:37:00 +0000   \n",
       "62    2017-06-28 16:09:20 +0000   \n",
       "854   2016-08-15 16:22:20 +0000   \n",
       "2107  2015-11-28 04:54:34 +0000   \n",
       "402   2017-01-25 18:38:36 +0000   \n",
       "1691  2015-12-28 03:46:05 +0000   \n",
       "390   2017-01-31 01:27:39 +0000   \n",
       "\n",
       "                                                 source  \\\n",
       "1446  <a href=\"http://twitter.com/download/iphone\" r...   \n",
       "1079  <a href=\"http://twitter.com/download/iphone\" r...   \n",
       "1907  <a href=\"http://twitter.com/download/iphone\" r...   \n",
       "1880  <a href=\"http://twitter.com/download/iphone\" r...   \n",
       "62    <a href=\"http://twitter.com/download/iphone\" r...   \n",
       "854   <a href=\"http://twitter.com/download/iphone\" r...   \n",
       "2107  <a href=\"http://twitter.com/download/iphone\" r...   \n",
       "402   <a href=\"http://twitter.com/download/iphone\" r...   \n",
       "1691  <a href=\"http://twitter.com/download/iphone\" r...   \n",
       "390   <a href=\"http://twitter.com/download/iphone\" r...   \n",
       "\n",
       "                                                   text  retweeted_status_id  \\\n",
       "1446  After reading the comments I may have overesti...                  NaN   \n",
       "1079  Here's a doggo blowing bubbles. It's downright...                  NaN   \n",
       "1907  This pupper just wants a belly rub. This puppe...                  NaN   \n",
       "1880  Say hello to Mollie. This pic was taken after ...                  NaN   \n",
       "62    Please don't send in photos without dogs in th...                  NaN   \n",
       "854   This is Gromit. He's pupset because there's no...                  NaN   \n",
       "2107  Silly dog here. Wearing bunny ears. Nice long ...                  NaN   \n",
       "402   Retweet the h*ck out of this 13/10 pupper #Bel...                  NaN   \n",
       "1691  This is Glacier. He's a very happy pup. Loves ...                  NaN   \n",
       "390   We only rate dogs. Please don't send in any mo...                  NaN   \n",
       "\n",
       "      retweeted_status_user_id retweeted_status_timestamp  \\\n",
       "1446                       NaN                        NaN   \n",
       "1079                       NaN                        NaN   \n",
       "1907                       NaN                        NaN   \n",
       "1880                       NaN                        NaN   \n",
       "62                         NaN                        NaN   \n",
       "854                        NaN                        NaN   \n",
       "2107                       NaN                        NaN   \n",
       "402                        NaN                        NaN   \n",
       "1691                       NaN                        NaN   \n",
       "390                        NaN                        NaN   \n",
       "\n",
       "                                          expanded_urls  rating_numerator  \\\n",
       "1446                                                NaN                 1   \n",
       "1079  https://twitter.com/dog_rates/status/739238157...                13   \n",
       "1907  https://twitter.com/dog_rates/status/674447403...                10   \n",
       "1880  https://twitter.com/dog_rates/status/675006312...                10   \n",
       "62    https://twitter.com/dog_rates/status/880095782...                11   \n",
       "854   https://twitter.com/dog_rates/status/765222098...                10   \n",
       "2107  https://twitter.com/dog_rates/status/670465786...                 7   \n",
       "402   https://twitter.com/dog_rates/status/824325613...                13   \n",
       "1691  https://twitter.com/dog_rates/status/681320187...                11   \n",
       "390   https://twitter.com/dog_rates/status/826240494...                11   \n",
       "\n",
       "      rating_denominator     name  doggo floofer  pupper puppo  \n",
       "1446                  10     None   None    None    None  None  \n",
       "1079                  10     None  doggo    None    None  None  \n",
       "1907                  10     None   None    None  pupper  None  \n",
       "1880                  10   Mollie   None    None  pupper  None  \n",
       "62                    10     None   None    None    None  None  \n",
       "854                   10   Gromit   None    None    None  None  \n",
       "2107                  10     None   None    None    None  None  \n",
       "402                   10     None   None    None  pupper  None  \n",
       "1691                  10  Glacier   None    None    None  None  \n",
       "390                   10     None   None    None    None  None  "
      ]
     },
     "execution_count": 42,
     "metadata": {},
     "output_type": "execute_result"
    }
   ],
   "source": [
    "df_twitter_archive.sample(10)"
   ]
  },
  {
   "cell_type": "code",
   "execution_count": 43,
   "metadata": {},
   "outputs": [
    {
     "data": {
      "text/html": [
       "<div>\n",
       "<style scoped>\n",
       "    .dataframe tbody tr th:only-of-type {\n",
       "        vertical-align: middle;\n",
       "    }\n",
       "\n",
       "    .dataframe tbody tr th {\n",
       "        vertical-align: top;\n",
       "    }\n",
       "\n",
       "    .dataframe thead th {\n",
       "        text-align: right;\n",
       "    }\n",
       "</style>\n",
       "<table border=\"1\" class=\"dataframe\">\n",
       "  <thead>\n",
       "    <tr style=\"text-align: right;\">\n",
       "      <th></th>\n",
       "      <th>tweet_id</th>\n",
       "      <th>jpg_url</th>\n",
       "      <th>img_num</th>\n",
       "      <th>p1</th>\n",
       "      <th>p1_conf</th>\n",
       "      <th>p1_dog</th>\n",
       "      <th>p2</th>\n",
       "      <th>p2_conf</th>\n",
       "      <th>p2_dog</th>\n",
       "      <th>p3</th>\n",
       "      <th>p3_conf</th>\n",
       "      <th>p3_dog</th>\n",
       "    </tr>\n",
       "  </thead>\n",
       "  <tbody>\n",
       "    <tr>\n",
       "      <th>530</th>\n",
       "      <td>676819651066732545</td>\n",
       "      <td>https://pbs.twimg.com/media/CWSL4W8WsAAE4KU.jpg</td>\n",
       "      <td>2</td>\n",
       "      <td>rain_barrel</td>\n",
       "      <td>0.625555</td>\n",
       "      <td>False</td>\n",
       "      <td>barrel</td>\n",
       "      <td>0.138383</td>\n",
       "      <td>False</td>\n",
       "      <td>Labrador_retriever</td>\n",
       "      <td>0.039465</td>\n",
       "      <td>True</td>\n",
       "    </tr>\n",
       "    <tr>\n",
       "      <th>1912</th>\n",
       "      <td>853760880890318849</td>\n",
       "      <td>https://pbs.twimg.com/media/C9kq_bbVwAAuRZd.jpg</td>\n",
       "      <td>1</td>\n",
       "      <td>miniature_pinscher</td>\n",
       "      <td>0.292519</td>\n",
       "      <td>True</td>\n",
       "      <td>Chihuahua</td>\n",
       "      <td>0.120946</td>\n",
       "      <td>True</td>\n",
       "      <td>Rottweiler</td>\n",
       "      <td>0.119490</td>\n",
       "      <td>True</td>\n",
       "    </tr>\n",
       "    <tr>\n",
       "      <th>496</th>\n",
       "      <td>675781562965868544</td>\n",
       "      <td>https://pbs.twimg.com/media/CWDbv2yU4AARfeH.jpg</td>\n",
       "      <td>1</td>\n",
       "      <td>Maltese_dog</td>\n",
       "      <td>0.921968</td>\n",
       "      <td>True</td>\n",
       "      <td>West_Highland_white_terrier</td>\n",
       "      <td>0.017811</td>\n",
       "      <td>True</td>\n",
       "      <td>toy_poodle</td>\n",
       "      <td>0.013555</td>\n",
       "      <td>True</td>\n",
       "    </tr>\n",
       "    <tr>\n",
       "      <th>1955</th>\n",
       "      <td>864279568663928832</td>\n",
       "      <td>https://pbs.twimg.com/media/C_6JrWZVwAAHhCD.jpg</td>\n",
       "      <td>1</td>\n",
       "      <td>bull_mastiff</td>\n",
       "      <td>0.668613</td>\n",
       "      <td>True</td>\n",
       "      <td>French_bulldog</td>\n",
       "      <td>0.180562</td>\n",
       "      <td>True</td>\n",
       "      <td>Staffordshire_bullterrier</td>\n",
       "      <td>0.052237</td>\n",
       "      <td>True</td>\n",
       "    </tr>\n",
       "    <tr>\n",
       "      <th>83</th>\n",
       "      <td>667495797102141441</td>\n",
       "      <td>https://pbs.twimg.com/media/CUNr4-7UwAAg2lq.jpg</td>\n",
       "      <td>1</td>\n",
       "      <td>Chihuahua</td>\n",
       "      <td>0.143957</td>\n",
       "      <td>True</td>\n",
       "      <td>Christmas_stocking</td>\n",
       "      <td>0.118651</td>\n",
       "      <td>False</td>\n",
       "      <td>ski_mask</td>\n",
       "      <td>0.092482</td>\n",
       "      <td>False</td>\n",
       "    </tr>\n",
       "    <tr>\n",
       "      <th>1632</th>\n",
       "      <td>805826884734976000</td>\n",
       "      <td>https://pbs.twimg.com/ext_tw_video_thumb/80582...</td>\n",
       "      <td>1</td>\n",
       "      <td>Siberian_husky</td>\n",
       "      <td>0.248926</td>\n",
       "      <td>True</td>\n",
       "      <td>American_Staffordshire_terrier</td>\n",
       "      <td>0.098313</td>\n",
       "      <td>True</td>\n",
       "      <td>Eskimo_dog</td>\n",
       "      <td>0.080188</td>\n",
       "      <td>True</td>\n",
       "    </tr>\n",
       "    <tr>\n",
       "      <th>1746</th>\n",
       "      <td>823269594223824897</td>\n",
       "      <td>https://pbs.twimg.com/media/C2kzTGxWEAEOpPL.jpg</td>\n",
       "      <td>1</td>\n",
       "      <td>Samoyed</td>\n",
       "      <td>0.585441</td>\n",
       "      <td>True</td>\n",
       "      <td>Pomeranian</td>\n",
       "      <td>0.193654</td>\n",
       "      <td>True</td>\n",
       "      <td>Arctic_fox</td>\n",
       "      <td>0.071648</td>\n",
       "      <td>False</td>\n",
       "    </tr>\n",
       "    <tr>\n",
       "      <th>345</th>\n",
       "      <td>672272411274932228</td>\n",
       "      <td>https://pbs.twimg.com/media/CVRkLuJWUAAhhYp.jpg</td>\n",
       "      <td>2</td>\n",
       "      <td>pug</td>\n",
       "      <td>0.914685</td>\n",
       "      <td>True</td>\n",
       "      <td>Norwegian_elkhound</td>\n",
       "      <td>0.014982</td>\n",
       "      <td>True</td>\n",
       "      <td>Siamese_cat</td>\n",
       "      <td>0.009221</td>\n",
       "      <td>False</td>\n",
       "    </tr>\n",
       "    <tr>\n",
       "      <th>935</th>\n",
       "      <td>703407252292673536</td>\n",
       "      <td>https://pbs.twimg.com/media/CcMBJODUsAI5-A9.jpg</td>\n",
       "      <td>1</td>\n",
       "      <td>doormat</td>\n",
       "      <td>0.201058</td>\n",
       "      <td>False</td>\n",
       "      <td>turnstile</td>\n",
       "      <td>0.088583</td>\n",
       "      <td>False</td>\n",
       "      <td>carton</td>\n",
       "      <td>0.082924</td>\n",
       "      <td>False</td>\n",
       "    </tr>\n",
       "    <tr>\n",
       "      <th>177</th>\n",
       "      <td>669214165781868544</td>\n",
       "      <td>https://pbs.twimg.com/media/CUmGu7-UcAA0r3O.jpg</td>\n",
       "      <td>1</td>\n",
       "      <td>minivan</td>\n",
       "      <td>0.435396</td>\n",
       "      <td>False</td>\n",
       "      <td>police_van</td>\n",
       "      <td>0.310143</td>\n",
       "      <td>False</td>\n",
       "      <td>minibus</td>\n",
       "      <td>0.068201</td>\n",
       "      <td>False</td>\n",
       "    </tr>\n",
       "  </tbody>\n",
       "</table>\n",
       "</div>"
      ],
      "text/plain": [
       "                tweet_id                                            jpg_url  \\\n",
       "530   676819651066732545    https://pbs.twimg.com/media/CWSL4W8WsAAE4KU.jpg   \n",
       "1912  853760880890318849    https://pbs.twimg.com/media/C9kq_bbVwAAuRZd.jpg   \n",
       "496   675781562965868544    https://pbs.twimg.com/media/CWDbv2yU4AARfeH.jpg   \n",
       "1955  864279568663928832    https://pbs.twimg.com/media/C_6JrWZVwAAHhCD.jpg   \n",
       "83    667495797102141441    https://pbs.twimg.com/media/CUNr4-7UwAAg2lq.jpg   \n",
       "1632  805826884734976000  https://pbs.twimg.com/ext_tw_video_thumb/80582...   \n",
       "1746  823269594223824897    https://pbs.twimg.com/media/C2kzTGxWEAEOpPL.jpg   \n",
       "345   672272411274932228    https://pbs.twimg.com/media/CVRkLuJWUAAhhYp.jpg   \n",
       "935   703407252292673536    https://pbs.twimg.com/media/CcMBJODUsAI5-A9.jpg   \n",
       "177   669214165781868544    https://pbs.twimg.com/media/CUmGu7-UcAA0r3O.jpg   \n",
       "\n",
       "      img_num                  p1   p1_conf  p1_dog  \\\n",
       "530         2         rain_barrel  0.625555   False   \n",
       "1912        1  miniature_pinscher  0.292519    True   \n",
       "496         1         Maltese_dog  0.921968    True   \n",
       "1955        1        bull_mastiff  0.668613    True   \n",
       "83          1           Chihuahua  0.143957    True   \n",
       "1632        1      Siberian_husky  0.248926    True   \n",
       "1746        1             Samoyed  0.585441    True   \n",
       "345         2                 pug  0.914685    True   \n",
       "935         1             doormat  0.201058   False   \n",
       "177         1             minivan  0.435396   False   \n",
       "\n",
       "                                  p2   p2_conf  p2_dog  \\\n",
       "530                           barrel  0.138383   False   \n",
       "1912                       Chihuahua  0.120946    True   \n",
       "496      West_Highland_white_terrier  0.017811    True   \n",
       "1955                  French_bulldog  0.180562    True   \n",
       "83                Christmas_stocking  0.118651   False   \n",
       "1632  American_Staffordshire_terrier  0.098313    True   \n",
       "1746                      Pomeranian  0.193654    True   \n",
       "345               Norwegian_elkhound  0.014982    True   \n",
       "935                        turnstile  0.088583   False   \n",
       "177                       police_van  0.310143   False   \n",
       "\n",
       "                             p3   p3_conf  p3_dog  \n",
       "530          Labrador_retriever  0.039465    True  \n",
       "1912                 Rottweiler  0.119490    True  \n",
       "496                  toy_poodle  0.013555    True  \n",
       "1955  Staffordshire_bullterrier  0.052237    True  \n",
       "83                     ski_mask  0.092482   False  \n",
       "1632                 Eskimo_dog  0.080188    True  \n",
       "1746                 Arctic_fox  0.071648   False  \n",
       "345                 Siamese_cat  0.009221   False  \n",
       "935                      carton  0.082924   False  \n",
       "177                     minibus  0.068201   False  "
      ]
     },
     "execution_count": 43,
     "metadata": {},
     "output_type": "execute_result"
    }
   ],
   "source": [
    "df_image_pred.sample(10)"
   ]
  },
  {
   "cell_type": "code",
   "execution_count": 44,
   "metadata": {},
   "outputs": [
    {
     "data": {
      "text/html": [
       "<div>\n",
       "<style scoped>\n",
       "    .dataframe tbody tr th:only-of-type {\n",
       "        vertical-align: middle;\n",
       "    }\n",
       "\n",
       "    .dataframe tbody tr th {\n",
       "        vertical-align: top;\n",
       "    }\n",
       "\n",
       "    .dataframe thead th {\n",
       "        text-align: right;\n",
       "    }\n",
       "</style>\n",
       "<table border=\"1\" class=\"dataframe\">\n",
       "  <thead>\n",
       "    <tr style=\"text-align: right;\">\n",
       "      <th></th>\n",
       "      <th>tweet_id</th>\n",
       "      <th>retweet_count</th>\n",
       "      <th>favorite_count</th>\n",
       "    </tr>\n",
       "  </thead>\n",
       "  <tbody>\n",
       "    <tr>\n",
       "      <th>1528</th>\n",
       "      <td>789986466051088384</td>\n",
       "      <td>2557</td>\n",
       "      <td>9948</td>\n",
       "    </tr>\n",
       "    <tr>\n",
       "      <th>2052</th>\n",
       "      <td>890006608113172480</td>\n",
       "      <td>7213</td>\n",
       "      <td>30214</td>\n",
       "    </tr>\n",
       "    <tr>\n",
       "      <th>561</th>\n",
       "      <td>677895101218201600</td>\n",
       "      <td>2245</td>\n",
       "      <td>5040</td>\n",
       "    </tr>\n",
       "    <tr>\n",
       "      <th>500</th>\n",
       "      <td>675845657354215424</td>\n",
       "      <td>937</td>\n",
       "      <td>2365</td>\n",
       "    </tr>\n",
       "    <tr>\n",
       "      <th>781</th>\n",
       "      <td>689999384604450816</td>\n",
       "      <td>400</td>\n",
       "      <td>1504</td>\n",
       "    </tr>\n",
       "    <tr>\n",
       "      <th>1753</th>\n",
       "      <td>825829644528148480</td>\n",
       "      <td>2712</td>\n",
       "      <td>13539</td>\n",
       "    </tr>\n",
       "    <tr>\n",
       "      <th>1166</th>\n",
       "      <td>736225175608430592</td>\n",
       "      <td>2966</td>\n",
       "      <td>8538</td>\n",
       "    </tr>\n",
       "    <tr>\n",
       "      <th>914</th>\n",
       "      <td>701601587219795968</td>\n",
       "      <td>489</td>\n",
       "      <td>2196</td>\n",
       "    </tr>\n",
       "    <tr>\n",
       "      <th>1485</th>\n",
       "      <td>782722598790725632</td>\n",
       "      <td>5928</td>\n",
       "      <td>18508</td>\n",
       "    </tr>\n",
       "    <tr>\n",
       "      <th>1164</th>\n",
       "      <td>735991953473572864</td>\n",
       "      <td>1229</td>\n",
       "      <td>3778</td>\n",
       "    </tr>\n",
       "  </tbody>\n",
       "</table>\n",
       "</div>"
      ],
      "text/plain": [
       "                tweet_id  retweet_count  favorite_count\n",
       "1528  789986466051088384           2557            9948\n",
       "2052  890006608113172480           7213           30214\n",
       "561   677895101218201600           2245            5040\n",
       "500   675845657354215424            937            2365\n",
       "781   689999384604450816            400            1504\n",
       "1753  825829644528148480           2712           13539\n",
       "1166  736225175608430592           2966            8538\n",
       "914   701601587219795968            489            2196\n",
       "1485  782722598790725632           5928           18508\n",
       "1164  735991953473572864           1229            3778"
      ]
     },
     "execution_count": 44,
     "metadata": {},
     "output_type": "execute_result"
    }
   ],
   "source": [
    "df_tweet_json.sample(10)"
   ]
  },
  {
   "cell_type": "markdown",
   "metadata": {},
   "source": [
    "### Programatic inspection  <a name='programatic'></a>"
   ]
  },
  {
   "cell_type": "code",
   "execution_count": 45,
   "metadata": {},
   "outputs": [
    {
     "name": "stdout",
     "output_type": "stream",
     "text": [
      "<class 'pandas.core.frame.DataFrame'>\n",
      "RangeIndex: 2356 entries, 0 to 2355\n",
      "Data columns (total 17 columns):\n",
      "tweet_id                      2356 non-null int64\n",
      "in_reply_to_status_id         78 non-null float64\n",
      "in_reply_to_user_id           78 non-null float64\n",
      "timestamp                     2356 non-null object\n",
      "source                        2356 non-null object\n",
      "text                          2356 non-null object\n",
      "retweeted_status_id           181 non-null float64\n",
      "retweeted_status_user_id      181 non-null float64\n",
      "retweeted_status_timestamp    181 non-null object\n",
      "expanded_urls                 2297 non-null object\n",
      "rating_numerator              2356 non-null int64\n",
      "rating_denominator            2356 non-null int64\n",
      "name                          2356 non-null object\n",
      "doggo                         2356 non-null object\n",
      "floofer                       2356 non-null object\n",
      "pupper                        2356 non-null object\n",
      "puppo                         2356 non-null object\n",
      "dtypes: float64(4), int64(3), object(10)\n",
      "memory usage: 313.0+ KB\n"
     ]
    }
   ],
   "source": [
    "df_twitter_archive.info()"
   ]
  },
  {
   "cell_type": "code",
   "execution_count": 46,
   "metadata": {},
   "outputs": [
    {
     "name": "stdout",
     "output_type": "stream",
     "text": [
      "<class 'pandas.core.frame.DataFrame'>\n",
      "RangeIndex: 2075 entries, 0 to 2074\n",
      "Data columns (total 12 columns):\n",
      "tweet_id    2075 non-null int64\n",
      "jpg_url     2075 non-null object\n",
      "img_num     2075 non-null int64\n",
      "p1          2075 non-null object\n",
      "p1_conf     2075 non-null float64\n",
      "p1_dog      2075 non-null bool\n",
      "p2          2075 non-null object\n",
      "p2_conf     2075 non-null float64\n",
      "p2_dog      2075 non-null bool\n",
      "p3          2075 non-null object\n",
      "p3_conf     2075 non-null float64\n",
      "p3_dog      2075 non-null bool\n",
      "dtypes: bool(3), float64(3), int64(2), object(4)\n",
      "memory usage: 152.1+ KB\n"
     ]
    }
   ],
   "source": [
    "df_image_pred.info()"
   ]
  },
  {
   "cell_type": "code",
   "execution_count": 47,
   "metadata": {},
   "outputs": [
    {
     "name": "stdout",
     "output_type": "stream",
     "text": [
      "<class 'pandas.core.frame.DataFrame'>\n",
      "RangeIndex: 2063 entries, 0 to 2062\n",
      "Data columns (total 3 columns):\n",
      "tweet_id          2063 non-null int64\n",
      "retweet_count     2063 non-null int64\n",
      "favorite_count    2063 non-null int64\n",
      "dtypes: int64(3)\n",
      "memory usage: 48.4 KB\n"
     ]
    }
   ],
   "source": [
    "df_tweet_json.info()"
   ]
  },
  {
   "cell_type": "code",
   "execution_count": 48,
   "metadata": {},
   "outputs": [
    {
     "data": {
      "text/html": [
       "<div>\n",
       "<style scoped>\n",
       "    .dataframe tbody tr th:only-of-type {\n",
       "        vertical-align: middle;\n",
       "    }\n",
       "\n",
       "    .dataframe tbody tr th {\n",
       "        vertical-align: top;\n",
       "    }\n",
       "\n",
       "    .dataframe thead th {\n",
       "        text-align: right;\n",
       "    }\n",
       "</style>\n",
       "<table border=\"1\" class=\"dataframe\">\n",
       "  <thead>\n",
       "    <tr style=\"text-align: right;\">\n",
       "      <th></th>\n",
       "      <th>tweet_id</th>\n",
       "      <th>in_reply_to_status_id</th>\n",
       "      <th>in_reply_to_user_id</th>\n",
       "      <th>retweeted_status_id</th>\n",
       "      <th>retweeted_status_user_id</th>\n",
       "      <th>rating_numerator</th>\n",
       "      <th>rating_denominator</th>\n",
       "    </tr>\n",
       "  </thead>\n",
       "  <tbody>\n",
       "    <tr>\n",
       "      <th>count</th>\n",
       "      <td>2.356000e+03</td>\n",
       "      <td>7.800000e+01</td>\n",
       "      <td>7.800000e+01</td>\n",
       "      <td>1.810000e+02</td>\n",
       "      <td>1.810000e+02</td>\n",
       "      <td>2356.000000</td>\n",
       "      <td>2356.000000</td>\n",
       "    </tr>\n",
       "    <tr>\n",
       "      <th>mean</th>\n",
       "      <td>7.427716e+17</td>\n",
       "      <td>7.455079e+17</td>\n",
       "      <td>2.014171e+16</td>\n",
       "      <td>7.720400e+17</td>\n",
       "      <td>1.241698e+16</td>\n",
       "      <td>13.126486</td>\n",
       "      <td>10.455433</td>\n",
       "    </tr>\n",
       "    <tr>\n",
       "      <th>std</th>\n",
       "      <td>6.856705e+16</td>\n",
       "      <td>7.582492e+16</td>\n",
       "      <td>1.252797e+17</td>\n",
       "      <td>6.236928e+16</td>\n",
       "      <td>9.599254e+16</td>\n",
       "      <td>45.876648</td>\n",
       "      <td>6.745237</td>\n",
       "    </tr>\n",
       "    <tr>\n",
       "      <th>min</th>\n",
       "      <td>6.660209e+17</td>\n",
       "      <td>6.658147e+17</td>\n",
       "      <td>1.185634e+07</td>\n",
       "      <td>6.661041e+17</td>\n",
       "      <td>7.832140e+05</td>\n",
       "      <td>0.000000</td>\n",
       "      <td>0.000000</td>\n",
       "    </tr>\n",
       "    <tr>\n",
       "      <th>25%</th>\n",
       "      <td>6.783989e+17</td>\n",
       "      <td>6.757419e+17</td>\n",
       "      <td>3.086374e+08</td>\n",
       "      <td>7.186315e+17</td>\n",
       "      <td>4.196984e+09</td>\n",
       "      <td>10.000000</td>\n",
       "      <td>10.000000</td>\n",
       "    </tr>\n",
       "    <tr>\n",
       "      <th>50%</th>\n",
       "      <td>7.196279e+17</td>\n",
       "      <td>7.038708e+17</td>\n",
       "      <td>4.196984e+09</td>\n",
       "      <td>7.804657e+17</td>\n",
       "      <td>4.196984e+09</td>\n",
       "      <td>11.000000</td>\n",
       "      <td>10.000000</td>\n",
       "    </tr>\n",
       "    <tr>\n",
       "      <th>75%</th>\n",
       "      <td>7.993373e+17</td>\n",
       "      <td>8.257804e+17</td>\n",
       "      <td>4.196984e+09</td>\n",
       "      <td>8.203146e+17</td>\n",
       "      <td>4.196984e+09</td>\n",
       "      <td>12.000000</td>\n",
       "      <td>10.000000</td>\n",
       "    </tr>\n",
       "    <tr>\n",
       "      <th>max</th>\n",
       "      <td>8.924206e+17</td>\n",
       "      <td>8.862664e+17</td>\n",
       "      <td>8.405479e+17</td>\n",
       "      <td>8.874740e+17</td>\n",
       "      <td>7.874618e+17</td>\n",
       "      <td>1776.000000</td>\n",
       "      <td>170.000000</td>\n",
       "    </tr>\n",
       "  </tbody>\n",
       "</table>\n",
       "</div>"
      ],
      "text/plain": [
       "           tweet_id  in_reply_to_status_id  in_reply_to_user_id  \\\n",
       "count  2.356000e+03           7.800000e+01         7.800000e+01   \n",
       "mean   7.427716e+17           7.455079e+17         2.014171e+16   \n",
       "std    6.856705e+16           7.582492e+16         1.252797e+17   \n",
       "min    6.660209e+17           6.658147e+17         1.185634e+07   \n",
       "25%    6.783989e+17           6.757419e+17         3.086374e+08   \n",
       "50%    7.196279e+17           7.038708e+17         4.196984e+09   \n",
       "75%    7.993373e+17           8.257804e+17         4.196984e+09   \n",
       "max    8.924206e+17           8.862664e+17         8.405479e+17   \n",
       "\n",
       "       retweeted_status_id  retweeted_status_user_id  rating_numerator  \\\n",
       "count         1.810000e+02              1.810000e+02       2356.000000   \n",
       "mean          7.720400e+17              1.241698e+16         13.126486   \n",
       "std           6.236928e+16              9.599254e+16         45.876648   \n",
       "min           6.661041e+17              7.832140e+05          0.000000   \n",
       "25%           7.186315e+17              4.196984e+09         10.000000   \n",
       "50%           7.804657e+17              4.196984e+09         11.000000   \n",
       "75%           8.203146e+17              4.196984e+09         12.000000   \n",
       "max           8.874740e+17              7.874618e+17       1776.000000   \n",
       "\n",
       "       rating_denominator  \n",
       "count         2356.000000  \n",
       "mean            10.455433  \n",
       "std              6.745237  \n",
       "min              0.000000  \n",
       "25%             10.000000  \n",
       "50%             10.000000  \n",
       "75%             10.000000  \n",
       "max            170.000000  "
      ]
     },
     "execution_count": 48,
     "metadata": {},
     "output_type": "execute_result"
    }
   ],
   "source": [
    "df_twitter_archive.describe()"
   ]
  },
  {
   "cell_type": "code",
   "execution_count": 49,
   "metadata": {},
   "outputs": [
    {
     "data": {
      "text/html": [
       "<div>\n",
       "<style scoped>\n",
       "    .dataframe tbody tr th:only-of-type {\n",
       "        vertical-align: middle;\n",
       "    }\n",
       "\n",
       "    .dataframe tbody tr th {\n",
       "        vertical-align: top;\n",
       "    }\n",
       "\n",
       "    .dataframe thead th {\n",
       "        text-align: right;\n",
       "    }\n",
       "</style>\n",
       "<table border=\"1\" class=\"dataframe\">\n",
       "  <thead>\n",
       "    <tr style=\"text-align: right;\">\n",
       "      <th></th>\n",
       "      <th>tweet_id</th>\n",
       "      <th>img_num</th>\n",
       "      <th>p1_conf</th>\n",
       "      <th>p2_conf</th>\n",
       "      <th>p3_conf</th>\n",
       "    </tr>\n",
       "  </thead>\n",
       "  <tbody>\n",
       "    <tr>\n",
       "      <th>count</th>\n",
       "      <td>2.075000e+03</td>\n",
       "      <td>2075.000000</td>\n",
       "      <td>2075.000000</td>\n",
       "      <td>2.075000e+03</td>\n",
       "      <td>2.075000e+03</td>\n",
       "    </tr>\n",
       "    <tr>\n",
       "      <th>mean</th>\n",
       "      <td>7.384514e+17</td>\n",
       "      <td>1.203855</td>\n",
       "      <td>0.594548</td>\n",
       "      <td>1.345886e-01</td>\n",
       "      <td>6.032417e-02</td>\n",
       "    </tr>\n",
       "    <tr>\n",
       "      <th>std</th>\n",
       "      <td>6.785203e+16</td>\n",
       "      <td>0.561875</td>\n",
       "      <td>0.271174</td>\n",
       "      <td>1.006657e-01</td>\n",
       "      <td>5.090593e-02</td>\n",
       "    </tr>\n",
       "    <tr>\n",
       "      <th>min</th>\n",
       "      <td>6.660209e+17</td>\n",
       "      <td>1.000000</td>\n",
       "      <td>0.044333</td>\n",
       "      <td>1.011300e-08</td>\n",
       "      <td>1.740170e-10</td>\n",
       "    </tr>\n",
       "    <tr>\n",
       "      <th>25%</th>\n",
       "      <td>6.764835e+17</td>\n",
       "      <td>1.000000</td>\n",
       "      <td>0.364412</td>\n",
       "      <td>5.388625e-02</td>\n",
       "      <td>1.622240e-02</td>\n",
       "    </tr>\n",
       "    <tr>\n",
       "      <th>50%</th>\n",
       "      <td>7.119988e+17</td>\n",
       "      <td>1.000000</td>\n",
       "      <td>0.588230</td>\n",
       "      <td>1.181810e-01</td>\n",
       "      <td>4.944380e-02</td>\n",
       "    </tr>\n",
       "    <tr>\n",
       "      <th>75%</th>\n",
       "      <td>7.932034e+17</td>\n",
       "      <td>1.000000</td>\n",
       "      <td>0.843855</td>\n",
       "      <td>1.955655e-01</td>\n",
       "      <td>9.180755e-02</td>\n",
       "    </tr>\n",
       "    <tr>\n",
       "      <th>max</th>\n",
       "      <td>8.924206e+17</td>\n",
       "      <td>4.000000</td>\n",
       "      <td>1.000000</td>\n",
       "      <td>4.880140e-01</td>\n",
       "      <td>2.734190e-01</td>\n",
       "    </tr>\n",
       "  </tbody>\n",
       "</table>\n",
       "</div>"
      ],
      "text/plain": [
       "           tweet_id      img_num      p1_conf       p2_conf       p3_conf\n",
       "count  2.075000e+03  2075.000000  2075.000000  2.075000e+03  2.075000e+03\n",
       "mean   7.384514e+17     1.203855     0.594548  1.345886e-01  6.032417e-02\n",
       "std    6.785203e+16     0.561875     0.271174  1.006657e-01  5.090593e-02\n",
       "min    6.660209e+17     1.000000     0.044333  1.011300e-08  1.740170e-10\n",
       "25%    6.764835e+17     1.000000     0.364412  5.388625e-02  1.622240e-02\n",
       "50%    7.119988e+17     1.000000     0.588230  1.181810e-01  4.944380e-02\n",
       "75%    7.932034e+17     1.000000     0.843855  1.955655e-01  9.180755e-02\n",
       "max    8.924206e+17     4.000000     1.000000  4.880140e-01  2.734190e-01"
      ]
     },
     "execution_count": 49,
     "metadata": {},
     "output_type": "execute_result"
    }
   ],
   "source": [
    "df_image_pred.describe()"
   ]
  },
  {
   "cell_type": "code",
   "execution_count": 50,
   "metadata": {},
   "outputs": [
    {
     "data": {
      "text/html": [
       "<div>\n",
       "<style scoped>\n",
       "    .dataframe tbody tr th:only-of-type {\n",
       "        vertical-align: middle;\n",
       "    }\n",
       "\n",
       "    .dataframe tbody tr th {\n",
       "        vertical-align: top;\n",
       "    }\n",
       "\n",
       "    .dataframe thead th {\n",
       "        text-align: right;\n",
       "    }\n",
       "</style>\n",
       "<table border=\"1\" class=\"dataframe\">\n",
       "  <thead>\n",
       "    <tr style=\"text-align: right;\">\n",
       "      <th></th>\n",
       "      <th>tweet_id</th>\n",
       "      <th>retweet_count</th>\n",
       "      <th>favorite_count</th>\n",
       "    </tr>\n",
       "  </thead>\n",
       "  <tbody>\n",
       "    <tr>\n",
       "      <th>count</th>\n",
       "      <td>2.063000e+03</td>\n",
       "      <td>2063.000000</td>\n",
       "      <td>2063.000000</td>\n",
       "    </tr>\n",
       "    <tr>\n",
       "      <th>mean</th>\n",
       "      <td>7.381457e+17</td>\n",
       "      <td>2817.846340</td>\n",
       "      <td>8462.124091</td>\n",
       "    </tr>\n",
       "    <tr>\n",
       "      <th>std</th>\n",
       "      <td>6.770708e+16</td>\n",
       "      <td>4900.834798</td>\n",
       "      <td>12727.099049</td>\n",
       "    </tr>\n",
       "    <tr>\n",
       "      <th>min</th>\n",
       "      <td>6.660209e+17</td>\n",
       "      <td>12.000000</td>\n",
       "      <td>0.000000</td>\n",
       "    </tr>\n",
       "    <tr>\n",
       "      <th>25%</th>\n",
       "      <td>6.763473e+17</td>\n",
       "      <td>597.000000</td>\n",
       "      <td>1606.500000</td>\n",
       "    </tr>\n",
       "    <tr>\n",
       "      <th>50%</th>\n",
       "      <td>7.117438e+17</td>\n",
       "      <td>1326.000000</td>\n",
       "      <td>3725.000000</td>\n",
       "    </tr>\n",
       "    <tr>\n",
       "      <th>75%</th>\n",
       "      <td>7.931430e+17</td>\n",
       "      <td>3254.500000</td>\n",
       "      <td>10600.500000</td>\n",
       "    </tr>\n",
       "    <tr>\n",
       "      <th>max</th>\n",
       "      <td>8.924206e+17</td>\n",
       "      <td>84010.000000</td>\n",
       "      <td>164819.000000</td>\n",
       "    </tr>\n",
       "  </tbody>\n",
       "</table>\n",
       "</div>"
      ],
      "text/plain": [
       "           tweet_id  retweet_count  favorite_count\n",
       "count  2.063000e+03    2063.000000     2063.000000\n",
       "mean   7.381457e+17    2817.846340     8462.124091\n",
       "std    6.770708e+16    4900.834798    12727.099049\n",
       "min    6.660209e+17      12.000000        0.000000\n",
       "25%    6.763473e+17     597.000000     1606.500000\n",
       "50%    7.117438e+17    1326.000000     3725.000000\n",
       "75%    7.931430e+17    3254.500000    10600.500000\n",
       "max    8.924206e+17   84010.000000   164819.000000"
      ]
     },
     "execution_count": 50,
     "metadata": {},
     "output_type": "execute_result"
    }
   ],
   "source": [
    "df_tweet_json.describe()"
   ]
  },
  {
   "cell_type": "markdown",
   "metadata": {},
   "source": [
    "## Clean  <a name='clean'></a>"
   ]
  },
  {
   "cell_type": "markdown",
   "metadata": {},
   "source": [
    "#### Clean df_twitter_final data frame\n",
    "*  [Define - Quality: Update the data type of timestamp to a timestamp instead of string](#clean1)\n",
    "*  [Define - Quality: Remove rows that are replies to other tweets](#clean2)\n",
    "*  [Define - Quality: Remove rows that are retweets ](#clean3)\n",
    "*  [Define - Quality: Remove reply and retweet columns from the dataframe](#clean4)\n",
    "*  [Define - Tidiness: Dog stages need to be combined into one column](#clean5)\n",
    "*  [Define - Quality: Change rating_numerator and rating_denominator to floats](#clean14)\n",
    "*  [Define Quality: Incorrect values in rating numerators](#clean15)\n",
    "*  [Define - Tidiness: Join all tweet information into one dataframe](#clean6)\n",
    "*  [Define - Quality: Drop unused twitter columns](#clean7)\n",
    "*  [Define - Quality: Drop all rows that do not have retweet or favorite values](#clean8)\n",
    "\n",
    "#### Clean df_image_pred_final data frame\n",
    "*  [Define - Quality: Remove _'s from the p1, p2, and p3 columns](#clean10)\n",
    "*  [Define - Quality: Capitalize the first letter in each word](#clean11)\n",
    "*  [Define - Tidiness: Determine the best prediction of dog type](#clean12)\n",
    "*  [Define - Quality: Remove unused image prediction columns](#clean13)\n",
    "*  [Merge final datasets into one dataframe for graphs ](#merge)\n",
    "*  [Create prediction categories ](#categories)\n",
    "*  [Define - Quality: Drop NA rows in dataframe](#clean16)"
   ]
  },
  {
   "cell_type": "code",
   "execution_count": 51,
   "metadata": {},
   "outputs": [],
   "source": [
    "# create copies of df's for cleaning\n",
    "df_image_pred_final = df_image_pred.copy()\n",
    "df_twitter_final = df_twitter_archive.copy()"
   ]
  },
  {
   "cell_type": "markdown",
   "metadata": {},
   "source": [
    "#### Define - Quality: Update the data type of timestamp to a timestamp instead of string <a name='clean1'></a>"
   ]
  },
  {
   "cell_type": "markdown",
   "metadata": {},
   "source": [
    "#### Code"
   ]
  },
  {
   "cell_type": "code",
   "execution_count": 52,
   "metadata": {},
   "outputs": [],
   "source": [
    "df_twitter_final['timestamp'] = pd.to_datetime(df_twitter_final['timestamp'])"
   ]
  },
  {
   "cell_type": "markdown",
   "metadata": {},
   "source": [
    "#### Test"
   ]
  },
  {
   "cell_type": "code",
   "execution_count": 53,
   "metadata": {},
   "outputs": [
    {
     "name": "stdout",
     "output_type": "stream",
     "text": [
      "<class 'pandas.core.frame.DataFrame'>\n",
      "RangeIndex: 2356 entries, 0 to 2355\n",
      "Data columns (total 17 columns):\n",
      "tweet_id                      2356 non-null int64\n",
      "in_reply_to_status_id         78 non-null float64\n",
      "in_reply_to_user_id           78 non-null float64\n",
      "timestamp                     2356 non-null datetime64[ns]\n",
      "source                        2356 non-null object\n",
      "text                          2356 non-null object\n",
      "retweeted_status_id           181 non-null float64\n",
      "retweeted_status_user_id      181 non-null float64\n",
      "retweeted_status_timestamp    181 non-null object\n",
      "expanded_urls                 2297 non-null object\n",
      "rating_numerator              2356 non-null int64\n",
      "rating_denominator            2356 non-null int64\n",
      "name                          2356 non-null object\n",
      "doggo                         2356 non-null object\n",
      "floofer                       2356 non-null object\n",
      "pupper                        2356 non-null object\n",
      "puppo                         2356 non-null object\n",
      "dtypes: datetime64[ns](1), float64(4), int64(3), object(9)\n",
      "memory usage: 313.0+ KB\n"
     ]
    }
   ],
   "source": [
    "df_twitter_final.info()"
   ]
  },
  {
   "cell_type": "markdown",
   "metadata": {},
   "source": [
    "#### Define - Quality: Remove rows that are replies to other tweets <a name='clean2'></a>"
   ]
  },
  {
   "cell_type": "markdown",
   "metadata": {},
   "source": [
    "#### Code"
   ]
  },
  {
   "cell_type": "code",
   "execution_count": 54,
   "metadata": {},
   "outputs": [],
   "source": [
    "df_twitter_final = df_twitter_final.query('in_reply_to_status_id == \"NaN\"')"
   ]
  },
  {
   "cell_type": "markdown",
   "metadata": {},
   "source": [
    "#### Test"
   ]
  },
  {
   "cell_type": "code",
   "execution_count": 55,
   "metadata": {},
   "outputs": [
    {
     "data": {
      "text/plain": [
       "0"
      ]
     },
     "execution_count": 55,
     "metadata": {},
     "output_type": "execute_result"
    }
   ],
   "source": [
    "df_twitter_final.query('in_reply_to_status_id != \"NaN\"')['in_reply_to_status_id'].count()"
   ]
  },
  {
   "cell_type": "markdown",
   "metadata": {},
   "source": [
    "#### Define - Quality: Remove rows that are retweets  <a name='clean3'></a>"
   ]
  },
  {
   "cell_type": "markdown",
   "metadata": {},
   "source": [
    "#### Code"
   ]
  },
  {
   "cell_type": "code",
   "execution_count": 56,
   "metadata": {},
   "outputs": [],
   "source": [
    "df_twitter_final = df_twitter_final.query('retweeted_status_id == \"NaN\"')"
   ]
  },
  {
   "cell_type": "markdown",
   "metadata": {},
   "source": [
    "#### Test"
   ]
  },
  {
   "cell_type": "code",
   "execution_count": 57,
   "metadata": {},
   "outputs": [
    {
     "data": {
      "text/plain": [
       "0"
      ]
     },
     "execution_count": 57,
     "metadata": {},
     "output_type": "execute_result"
    }
   ],
   "source": [
    "df_twitter_final.query('retweeted_status_id != \"NaN\"')['retweeted_status_id'].count()"
   ]
  },
  {
   "cell_type": "markdown",
   "metadata": {},
   "source": [
    "#### Define - Quality: Remove reply and retweet columns from the dataframe <a name='clean4'></a>"
   ]
  },
  {
   "cell_type": "markdown",
   "metadata": {},
   "source": [
    "#### Code"
   ]
  },
  {
   "cell_type": "code",
   "execution_count": 59,
   "metadata": {},
   "outputs": [],
   "source": [
    "df_twitter_final.drop(['in_reply_to_status_id','in_reply_to_user_id', \n",
    "                       'retweeted_status_id', 'retweeted_status_user_id',\n",
    "                       'retweeted_status_timestamp'], axis=1, inplace=True)"
   ]
  },
  {
   "cell_type": "markdown",
   "metadata": {},
   "source": [
    "####  Test"
   ]
  },
  {
   "cell_type": "code",
   "execution_count": 60,
   "metadata": {},
   "outputs": [
    {
     "name": "stdout",
     "output_type": "stream",
     "text": [
      "<class 'pandas.core.frame.DataFrame'>\n",
      "Int64Index: 2097 entries, 0 to 2355\n",
      "Data columns (total 12 columns):\n",
      "tweet_id              2097 non-null int64\n",
      "timestamp             2097 non-null datetime64[ns]\n",
      "source                2097 non-null object\n",
      "text                  2097 non-null object\n",
      "expanded_urls         2094 non-null object\n",
      "rating_numerator      2097 non-null int64\n",
      "rating_denominator    2097 non-null int64\n",
      "name                  2097 non-null object\n",
      "doggo                 2097 non-null object\n",
      "floofer               2097 non-null object\n",
      "pupper                2097 non-null object\n",
      "puppo                 2097 non-null object\n",
      "dtypes: datetime64[ns](1), int64(3), object(8)\n",
      "memory usage: 213.0+ KB\n"
     ]
    }
   ],
   "source": [
    "df_twitter_final.info()"
   ]
  },
  {
   "cell_type": "markdown",
   "metadata": {},
   "source": [
    "#### Define - Tidiness: Dog stages need to be combined into one column  <a name='clean5'></a>"
   ]
  },
  {
   "cell_type": "markdown",
   "metadata": {},
   "source": [
    "#### Code"
   ]
  },
  {
   "cell_type": "code",
   "execution_count": 61,
   "metadata": {},
   "outputs": [],
   "source": [
    "df_twitter_final['dog_stage'] = df_twitter_final[['doggo','floofer','pupper','puppo']].apply(lambda x: ','.join(x), axis=1)\n",
    "df_twitter_final['dog_stage'] = df_twitter_final['dog_stage'].apply(lambda x: x.replace(',,,',','))\n",
    "df_twitter_final['dog_stage'] = df_twitter_final['dog_stage'].apply(lambda x: x.replace(',,',','))\n",
    "df_twitter_final['dog_stage'] = df_twitter_final['dog_stage'].apply(lambda x: x.lstrip(',').rstrip(','))"
   ]
  },
  {
   "cell_type": "markdown",
   "metadata": {},
   "source": [
    "#### Test"
   ]
  },
  {
   "cell_type": "code",
   "execution_count": 62,
   "metadata": {},
   "outputs": [
    {
     "data": {
      "text/plain": [
       "None,None,None,None        1761\n",
       "None,None,pupper,None       221\n",
       "doggo,None,None,None         72\n",
       "None,None,None,puppo         23\n",
       "doggo,None,pupper,None        9\n",
       "None,floofer,None,None        9\n",
       "doggo,None,None,puppo         1\n",
       "doggo,floofer,None,None       1\n",
       "Name: dog_stage, dtype: int64"
      ]
     },
     "execution_count": 62,
     "metadata": {},
     "output_type": "execute_result"
    }
   ],
   "source": [
    "df_twitter_final['dog_stage'].value_counts()"
   ]
  },
  {
   "cell_type": "markdown",
   "metadata": {},
   "source": [
    "#### Define - Quality: Change rating_numerator and rating_denominator to floats  <a name='clean14'></a>"
   ]
  },
  {
   "cell_type": "markdown",
   "metadata": {},
   "source": [
    "#### Code"
   ]
  },
  {
   "cell_type": "code",
   "execution_count": 63,
   "metadata": {},
   "outputs": [],
   "source": [
    "df_twitter_final['rating_numerator'] = pd.to_numeric(df_twitter_final['rating_numerator'], downcast='float')\n",
    "df_twitter_final['rating_denominator'] = pd.to_numeric(df_twitter_final['rating_denominator'], downcast='float')"
   ]
  },
  {
   "cell_type": "markdown",
   "metadata": {},
   "source": [
    "#### Test"
   ]
  },
  {
   "cell_type": "code",
   "execution_count": 64,
   "metadata": {},
   "outputs": [
    {
     "name": "stdout",
     "output_type": "stream",
     "text": [
      "<class 'pandas.core.frame.DataFrame'>\n",
      "Int64Index: 2097 entries, 0 to 2355\n",
      "Data columns (total 13 columns):\n",
      "tweet_id              2097 non-null int64\n",
      "timestamp             2097 non-null datetime64[ns]\n",
      "source                2097 non-null object\n",
      "text                  2097 non-null object\n",
      "expanded_urls         2094 non-null object\n",
      "rating_numerator      2097 non-null float32\n",
      "rating_denominator    2097 non-null float32\n",
      "name                  2097 non-null object\n",
      "doggo                 2097 non-null object\n",
      "floofer               2097 non-null object\n",
      "pupper                2097 non-null object\n",
      "puppo                 2097 non-null object\n",
      "dog_stage             2097 non-null object\n",
      "dtypes: datetime64[ns](1), float32(2), int64(1), object(9)\n",
      "memory usage: 213.0+ KB\n"
     ]
    }
   ],
   "source": [
    "df_twitter_final.info()"
   ]
  },
  {
   "cell_type": "markdown",
   "metadata": {},
   "source": [
    "#### Define Quality: Incorrect values in rating numerators  <a name='clean15'></a>"
   ]
  },
  {
   "cell_type": "markdown",
   "metadata": {},
   "source": [
    "#### Code"
   ]
  },
  {
   "cell_type": "code",
   "execution_count": 65,
   "metadata": {},
   "outputs": [],
   "source": [
    "df_twitter_final['rating_numerator'] = df_twitter_final.text.str.extract('((?:\\d+\\.)?\\d+)\\/(\\d+)', expand=True)[0].astype('float')\n",
    "df_twitter_final['rating_denominator'] = df_twitter_final.text.str.extract('((?:\\d+\\.)?\\d+)\\/(\\d+)', expand=True)[1].astype('float')"
   ]
  },
  {
   "cell_type": "markdown",
   "metadata": {},
   "source": [
    "#### Test"
   ]
  },
  {
   "cell_type": "code",
   "execution_count": 66,
   "metadata": {},
   "outputs": [
    {
     "data": {
      "text/html": [
       "<div>\n",
       "<style scoped>\n",
       "    .dataframe tbody tr th:only-of-type {\n",
       "        vertical-align: middle;\n",
       "    }\n",
       "\n",
       "    .dataframe tbody tr th {\n",
       "        vertical-align: top;\n",
       "    }\n",
       "\n",
       "    .dataframe thead th {\n",
       "        text-align: right;\n",
       "    }\n",
       "</style>\n",
       "<table border=\"1\" class=\"dataframe\">\n",
       "  <thead>\n",
       "    <tr style=\"text-align: right;\">\n",
       "      <th></th>\n",
       "      <th>tweet_id</th>\n",
       "      <th>timestamp</th>\n",
       "      <th>source</th>\n",
       "      <th>text</th>\n",
       "      <th>expanded_urls</th>\n",
       "      <th>rating_numerator</th>\n",
       "      <th>rating_denominator</th>\n",
       "      <th>name</th>\n",
       "      <th>doggo</th>\n",
       "      <th>floofer</th>\n",
       "      <th>pupper</th>\n",
       "      <th>puppo</th>\n",
       "      <th>dog_stage</th>\n",
       "    </tr>\n",
       "  </thead>\n",
       "  <tbody>\n",
       "    <tr>\n",
       "      <th>695</th>\n",
       "      <td>786709082849828864</td>\n",
       "      <td>2016-10-13 23:23:56</td>\n",
       "      <td>&lt;a href=\"http://twitter.com/download/iphone\" r...</td>\n",
       "      <td>This is Logan, the Chow who lived. He solemnly...</td>\n",
       "      <td>https://twitter.com/dog_rates/status/786709082...</td>\n",
       "      <td>9.75</td>\n",
       "      <td>10.0</td>\n",
       "      <td>Logan</td>\n",
       "      <td>None</td>\n",
       "      <td>None</td>\n",
       "      <td>None</td>\n",
       "      <td>None</td>\n",
       "      <td>None,None,None,None</td>\n",
       "    </tr>\n",
       "  </tbody>\n",
       "</table>\n",
       "</div>"
      ],
      "text/plain": [
       "               tweet_id           timestamp  \\\n",
       "695  786709082849828864 2016-10-13 23:23:56   \n",
       "\n",
       "                                                source  \\\n",
       "695  <a href=\"http://twitter.com/download/iphone\" r...   \n",
       "\n",
       "                                                  text  \\\n",
       "695  This is Logan, the Chow who lived. He solemnly...   \n",
       "\n",
       "                                         expanded_urls  rating_numerator  \\\n",
       "695  https://twitter.com/dog_rates/status/786709082...              9.75   \n",
       "\n",
       "     rating_denominator   name doggo floofer pupper puppo            dog_stage  \n",
       "695                10.0  Logan  None    None   None  None  None,None,None,None  "
      ]
     },
     "execution_count": 66,
     "metadata": {},
     "output_type": "execute_result"
    }
   ],
   "source": [
    "df_twitter_final.query('tweet_id == 786709082849828864 \\\n",
    "                         and rating_numerator == 9.75 \\\n",
    "                        and rating_denominator == 10.0')"
   ]
  },
  {
   "cell_type": "markdown",
   "metadata": {},
   "source": [
    "#### Define - Tidiness: Join all tweet information into one dataframe <a name='clean6'></a>"
   ]
  },
  {
   "cell_type": "markdown",
   "metadata": {},
   "source": [
    "#### Code"
   ]
  },
  {
   "cell_type": "code",
   "execution_count": 67,
   "metadata": {},
   "outputs": [
    {
     "name": "stdout",
     "output_type": "stream",
     "text": [
      "<class 'pandas.core.frame.DataFrame'>\n",
      "RangeIndex: 2063 entries, 0 to 2062\n",
      "Data columns (total 3 columns):\n",
      "tweet_id          2063 non-null int64\n",
      "retweet_count     2063 non-null int64\n",
      "favorite_count    2063 non-null int64\n",
      "dtypes: int64(3)\n",
      "memory usage: 48.4 KB\n"
     ]
    }
   ],
   "source": [
    "df_tweet_json.info()"
   ]
  },
  {
   "cell_type": "code",
   "execution_count": 69,
   "metadata": {},
   "outputs": [],
   "source": [
    "df_twitter_final = df_twitter_final.merge(df_tweet_json, left_on='tweet_id',\n",
    "                                          right_on='tweet_id', how='left')"
   ]
  },
  {
   "cell_type": "markdown",
   "metadata": {},
   "source": [
    "#### Test"
   ]
  },
  {
   "cell_type": "code",
   "execution_count": 70,
   "metadata": {},
   "outputs": [
    {
     "name": "stdout",
     "output_type": "stream",
     "text": [
      "<class 'pandas.core.frame.DataFrame'>\n",
      "Int64Index: 2097 entries, 0 to 2096\n",
      "Data columns (total 15 columns):\n",
      "tweet_id              2097 non-null int64\n",
      "timestamp             2097 non-null datetime64[ns]\n",
      "source                2097 non-null object\n",
      "text                  2097 non-null object\n",
      "expanded_urls         2094 non-null object\n",
      "rating_numerator      2097 non-null float64\n",
      "rating_denominator    2097 non-null float64\n",
      "name                  2097 non-null object\n",
      "doggo                 2097 non-null object\n",
      "floofer               2097 non-null object\n",
      "pupper                2097 non-null object\n",
      "puppo                 2097 non-null object\n",
      "dog_stage             2097 non-null object\n",
      "retweet_count         1966 non-null float64\n",
      "favorite_count        1966 non-null float64\n",
      "dtypes: datetime64[ns](1), float64(4), int64(1), object(9)\n",
      "memory usage: 262.1+ KB\n"
     ]
    }
   ],
   "source": [
    "df_twitter_final.info()"
   ]
  },
  {
   "cell_type": "markdown",
   "metadata": {},
   "source": [
    "#### Define - Quality: Drop unused twitter columns <a name='clean7'></a>"
   ]
  },
  {
   "cell_type": "markdown",
   "metadata": {},
   "source": [
    "#### Code"
   ]
  },
  {
   "cell_type": "code",
   "execution_count": 71,
   "metadata": {},
   "outputs": [],
   "source": [
    "df_twitter_final.drop(['source','text','expanded_urls','rating_numerator','rating_denominator',\n",
    "                      'name','doggo','floofer','pupper','puppo'], axis=1, inplace=True)"
   ]
  },
  {
   "cell_type": "markdown",
   "metadata": {},
   "source": [
    "#### Test"
   ]
  },
  {
   "cell_type": "code",
   "execution_count": 72,
   "metadata": {},
   "outputs": [
    {
     "name": "stdout",
     "output_type": "stream",
     "text": [
      "<class 'pandas.core.frame.DataFrame'>\n",
      "Int64Index: 2097 entries, 0 to 2096\n",
      "Data columns (total 5 columns):\n",
      "tweet_id          2097 non-null int64\n",
      "timestamp         2097 non-null datetime64[ns]\n",
      "dog_stage         2097 non-null object\n",
      "retweet_count     1966 non-null float64\n",
      "favorite_count    1966 non-null float64\n",
      "dtypes: datetime64[ns](1), float64(2), int64(1), object(1)\n",
      "memory usage: 98.3+ KB\n"
     ]
    }
   ],
   "source": [
    "df_twitter_final.info()"
   ]
  },
  {
   "cell_type": "markdown",
   "metadata": {},
   "source": [
    "#### Define - Quality: Drop all rows that do not have retweet or favorite values <a name='clean8'></a>"
   ]
  },
  {
   "cell_type": "code",
   "execution_count": 73,
   "metadata": {},
   "outputs": [],
   "source": [
    "df_twitter_final = df_twitter_final.query('retweet_count != \"NaN\"')\n",
    "df_twitter_final = df_twitter_final.query('favorite_count != \"NaN\"')"
   ]
  },
  {
   "cell_type": "code",
   "execution_count": 74,
   "metadata": {},
   "outputs": [
    {
     "name": "stdout",
     "output_type": "stream",
     "text": [
      "retweet: 0\n",
      "favorite: 0\n"
     ]
    }
   ],
   "source": [
    "print('retweet: ' + str(df_twitter_final.query('retweet_count == \"NaN\"')['retweet_count'].count()))\n",
    "print('favorite: ' + str(df_twitter_final.query('favorite_count == \"NaN\"')['favorite_count'].count()))"
   ]
  },
  {
   "cell_type": "markdown",
   "metadata": {},
   "source": [
    "#### Define - Quality: Remove _'s from the p1, p2, and p3 columns <a name='clean10'></a>"
   ]
  },
  {
   "cell_type": "markdown",
   "metadata": {},
   "source": [
    "#### Code"
   ]
  },
  {
   "cell_type": "code",
   "execution_count": 75,
   "metadata": {},
   "outputs": [],
   "source": [
    "df_image_pred_final['p1'] = df_image_pred_final['p1'].str.replace(\"_\", \" \")\n",
    "df_image_pred_final['p2'] = df_image_pred_final['p2'].str.replace(\"_\", \" \")\n",
    "df_image_pred_final['p3'] = df_image_pred_final['p3'].str.replace(\"_\", \" \")"
   ]
  },
  {
   "cell_type": "markdown",
   "metadata": {},
   "source": [
    "#### Test"
   ]
  },
  {
   "cell_type": "code",
   "execution_count": 76,
   "metadata": {},
   "outputs": [
    {
     "name": "stdout",
     "output_type": "stream",
     "text": [
      "p1: 0\n",
      "p2: 0\n",
      "p3: 0\n"
     ]
    }
   ],
   "source": [
    "print('p1: ' + str(df_image_pred_final.query('p1.str.contains(\"_\")')['p1'].count()))\n",
    "print('p2: ' + str(df_image_pred_final.query('p2.str.contains(\"_\")')['p2'].count()))\n",
    "print('p3: ' + str(df_image_pred_final.query('p3.str.contains(\"_\")')['p3'].count()))"
   ]
  },
  {
   "cell_type": "markdown",
   "metadata": {},
   "source": [
    "#### Define - Quality: Capitalize the first letter in each word <a name='clean11'></a>"
   ]
  },
  {
   "cell_type": "markdown",
   "metadata": {},
   "source": [
    "#### Code"
   ]
  },
  {
   "cell_type": "code",
   "execution_count": 77,
   "metadata": {},
   "outputs": [],
   "source": [
    "df_image_pred_final['p1'] = df_image_pred_final['p1'].str.title()\n",
    "df_image_pred_final['p2'] = df_image_pred_final['p2'].str.title()\n",
    "df_image_pred_final['p3'] = df_image_pred_final['p3'].str.title()"
   ]
  },
  {
   "cell_type": "markdown",
   "metadata": {},
   "source": [
    "#### Test"
   ]
  },
  {
   "cell_type": "code",
   "execution_count": 78,
   "metadata": {},
   "outputs": [
    {
     "name": "stdout",
     "output_type": "stream",
     "text": [
      "p1: 0\n",
      "p2: 0\n",
      "p3: 0\n"
     ]
    }
   ],
   "source": [
    "print('p1: ' + str(df_image_pred_final.query('p1 != p1.str.title()')['p1'].count()))\n",
    "print('p2: ' + str(df_image_pred_final.query('p2 != p2.str.title()')['p2'].count()))\n",
    "print('p3: ' + str(df_image_pred_final.query('p3 != p3.str.title()')['p3'].count()))"
   ]
  },
  {
   "cell_type": "markdown",
   "metadata": {},
   "source": [
    "#### Define - Tidiness: Determine the best prediction of dog type <a name='clean12'></a>"
   ]
  },
  {
   "cell_type": "markdown",
   "metadata": {},
   "source": [
    "#### Code"
   ]
  },
  {
   "cell_type": "code",
   "execution_count": 79,
   "metadata": {},
   "outputs": [],
   "source": [
    "dog_pred = []\n",
    "dog_pred_conf = []\n",
    "\n",
    "def top_dog_prediction(df_row):\n",
    "    if df_row['p1_dog'] == True:\n",
    "        dog_pred.append(df_row['p1'])\n",
    "        dog_pred_conf.append(df_row['p1_conf'])\n",
    "    elif df_row['p2_dog'] == True:\n",
    "        dog_pred.append(df_row['p2'])\n",
    "        dog_pred_conf.append(df_row['p2_conf'])\n",
    "    elif df_row['p3_dog'] == True:\n",
    "        dog_pred.append(df_row['p3'])\n",
    "        dog_pred_conf.append(df_row['p3_conf'])\n",
    "    else:\n",
    "        dog_pred.append(np.nan)\n",
    "        dog_pred_conf.append(np.nan)\n",
    "\n",
    "df_image_pred_final.apply(top_dog_prediction, axis=1)\n",
    "        \n",
    "df_image_pred_final['dog_pred'] = dog_pred\n",
    "df_image_pred_final['dog_pred_conf'] = dog_pred_conf"
   ]
  },
  {
   "cell_type": "markdown",
   "metadata": {},
   "source": [
    "#### Test"
   ]
  },
  {
   "cell_type": "code",
   "execution_count": 80,
   "metadata": {},
   "outputs": [
    {
     "name": "stdout",
     "output_type": "stream",
     "text": [
      "p1: 1532 match: 1532\n",
      "p2: 155 match: 155\n",
      "p3: 64 match: 64\n"
     ]
    }
   ],
   "source": [
    "print('p1: ' + str(df_image_pred_final.query('p1_dog == True')['p1_dog'].count()) +\n",
    "      ' match: ' + str(df_image_pred_final.query('p1 == dog_pred and p1_conf == dog_pred_conf')['p1'].count()))\n",
    "print('p2: ' + str(df_image_pred_final.query('p1_dog == False and p2_dog == True')['p2_dog'].count()) +\n",
    "      ' match: ' + str(df_image_pred_final.query('p2 == dog_pred and p2_conf == dog_pred_conf')['p2'].count()))\n",
    "print('p3: ' + str(df_image_pred_final.query('p1_dog == False and p2_dog == False and p3_dog == True')['p3_dog'].count()) +\n",
    "      ' match: ' + str(df_image_pred_final.query('p3 == dog_pred and p3_conf == dog_pred_conf')['p3'].count()))"
   ]
  },
  {
   "cell_type": "markdown",
   "metadata": {},
   "source": [
    "#### Define - Quality: Remove unused image prediction columns <a name='clean13'></a>"
   ]
  },
  {
   "cell_type": "markdown",
   "metadata": {},
   "source": [
    "#### Code"
   ]
  },
  {
   "cell_type": "code",
   "execution_count": 81,
   "metadata": {},
   "outputs": [],
   "source": [
    "df_image_pred_final.drop(['img_num','p1','p1_conf','p2','p2_conf','p3','p3_conf'], axis=1, inplace=True)"
   ]
  },
  {
   "cell_type": "markdown",
   "metadata": {},
   "source": [
    "#### Test"
   ]
  },
  {
   "cell_type": "code",
   "execution_count": 82,
   "metadata": {},
   "outputs": [
    {
     "name": "stdout",
     "output_type": "stream",
     "text": [
      "<class 'pandas.core.frame.DataFrame'>\n",
      "RangeIndex: 2075 entries, 0 to 2074\n",
      "Data columns (total 7 columns):\n",
      "tweet_id         2075 non-null int64\n",
      "jpg_url          2075 non-null object\n",
      "p1_dog           2075 non-null bool\n",
      "p2_dog           2075 non-null bool\n",
      "p3_dog           2075 non-null bool\n",
      "dog_pred         1751 non-null object\n",
      "dog_pred_conf    1751 non-null float64\n",
      "dtypes: bool(3), float64(1), int64(1), object(2)\n",
      "memory usage: 71.0+ KB\n"
     ]
    }
   ],
   "source": [
    "df_image_pred_final.info()"
   ]
  },
  {
   "cell_type": "markdown",
   "metadata": {},
   "source": [
    "#### Merge final datasets into one dataframe for graphs  <a name='merge'></a>"
   ]
  },
  {
   "cell_type": "code",
   "execution_count": 83,
   "metadata": {},
   "outputs": [
    {
     "name": "stdout",
     "output_type": "stream",
     "text": [
      "<class 'pandas.core.frame.DataFrame'>\n",
      "Int64Index: 1966 entries, 0 to 1965\n",
      "Data columns (total 11 columns):\n",
      "tweet_id          1966 non-null int64\n",
      "timestamp         1966 non-null datetime64[ns]\n",
      "dog_stage         1966 non-null object\n",
      "retweet_count     1966 non-null float64\n",
      "favorite_count    1966 non-null float64\n",
      "jpg_url           1966 non-null object\n",
      "p1_dog            1966 non-null bool\n",
      "p2_dog            1966 non-null bool\n",
      "p3_dog            1966 non-null bool\n",
      "dog_pred          1662 non-null object\n",
      "dog_pred_conf     1662 non-null float64\n",
      "dtypes: bool(3), datetime64[ns](1), float64(3), int64(1), object(3)\n",
      "memory usage: 144.0+ KB\n"
     ]
    }
   ],
   "source": [
    "df_combined_master = df_twitter_final.merge(df_image_pred_final, left_on='tweet_id', right_on='tweet_id', how='inner')\n",
    "df_combined_master.info()"
   ]
  },
  {
   "cell_type": "markdown",
   "metadata": {},
   "source": [
    "#### Create prediction categories  <a name='categories'></a>"
   ]
  },
  {
   "cell_type": "code",
   "execution_count": 84,
   "metadata": {},
   "outputs": [
    {
     "data": {
      "text/html": [
       "<div>\n",
       "<style scoped>\n",
       "    .dataframe tbody tr th:only-of-type {\n",
       "        vertical-align: middle;\n",
       "    }\n",
       "\n",
       "    .dataframe tbody tr th {\n",
       "        vertical-align: top;\n",
       "    }\n",
       "\n",
       "    .dataframe thead th {\n",
       "        text-align: right;\n",
       "    }\n",
       "</style>\n",
       "<table border=\"1\" class=\"dataframe\">\n",
       "  <thead>\n",
       "    <tr style=\"text-align: right;\">\n",
       "      <th></th>\n",
       "      <th>tweet_id</th>\n",
       "      <th>timestamp</th>\n",
       "      <th>dog_stage</th>\n",
       "      <th>retweet_count</th>\n",
       "      <th>favorite_count</th>\n",
       "      <th>jpg_url</th>\n",
       "      <th>p1_dog</th>\n",
       "      <th>p2_dog</th>\n",
       "      <th>p3_dog</th>\n",
       "      <th>dog_pred</th>\n",
       "      <th>dog_pred_conf</th>\n",
       "      <th>pred_categories</th>\n",
       "    </tr>\n",
       "  </thead>\n",
       "  <tbody>\n",
       "    <tr>\n",
       "      <th>1261</th>\n",
       "      <td>685641971164143616</td>\n",
       "      <td>2016-01-09 01:59:19</td>\n",
       "      <td>None,None,pupper,None</td>\n",
       "      <td>835.0</td>\n",
       "      <td>3091.0</td>\n",
       "      <td>https://pbs.twimg.com/media/CYPjvFqW8AAgiP2.jpg</td>\n",
       "      <td>True</td>\n",
       "      <td>True</td>\n",
       "      <td>False</td>\n",
       "      <td>Lakeland Terrier</td>\n",
       "      <td>0.253839</td>\n",
       "      <td>2.0</td>\n",
       "    </tr>\n",
       "    <tr>\n",
       "      <th>1602</th>\n",
       "      <td>672964561327235073</td>\n",
       "      <td>2015-12-05 02:23:49</td>\n",
       "      <td>None,None,None,None</td>\n",
       "      <td>662.0</td>\n",
       "      <td>1450.0</td>\n",
       "      <td>https://pbs.twimg.com/media/CVbZsouWUAIsxMc.jpg</td>\n",
       "      <td>True</td>\n",
       "      <td>True</td>\n",
       "      <td>True</td>\n",
       "      <td>Chihuahua</td>\n",
       "      <td>0.292343</td>\n",
       "      <td>2.0</td>\n",
       "    </tr>\n",
       "    <tr>\n",
       "      <th>1065</th>\n",
       "      <td>701889187134500865</td>\n",
       "      <td>2016-02-22 21:59:57</td>\n",
       "      <td>None,None,None,None</td>\n",
       "      <td>1471.0</td>\n",
       "      <td>3746.0</td>\n",
       "      <td>https://pbs.twimg.com/media/Cb2cfd9WAAEL-zk.jpg</td>\n",
       "      <td>True</td>\n",
       "      <td>True</td>\n",
       "      <td>False</td>\n",
       "      <td>French Bulldog</td>\n",
       "      <td>0.902856</td>\n",
       "      <td>5.0</td>\n",
       "    </tr>\n",
       "    <tr>\n",
       "      <th>1907</th>\n",
       "      <td>667090893657276420</td>\n",
       "      <td>2015-11-18 21:23:57</td>\n",
       "      <td>None,None,None,None</td>\n",
       "      <td>129.0</td>\n",
       "      <td>336.0</td>\n",
       "      <td>https://pbs.twimg.com/media/CUH7oLuUsAELWib.jpg</td>\n",
       "      <td>True</td>\n",
       "      <td>True</td>\n",
       "      <td>True</td>\n",
       "      <td>Chihuahua</td>\n",
       "      <td>0.959514</td>\n",
       "      <td>5.0</td>\n",
       "    </tr>\n",
       "    <tr>\n",
       "      <th>1016</th>\n",
       "      <td>706593038911545345</td>\n",
       "      <td>2016-03-06 21:31:22</td>\n",
       "      <td>None,None,None,None</td>\n",
       "      <td>670.0</td>\n",
       "      <td>2265.0</td>\n",
       "      <td>https://pbs.twimg.com/media/Cc5Snc7XIAAMidF.jpg</td>\n",
       "      <td>False</td>\n",
       "      <td>False</td>\n",
       "      <td>False</td>\n",
       "      <td>NaN</td>\n",
       "      <td>NaN</td>\n",
       "      <td>NaN</td>\n",
       "    </tr>\n",
       "    <tr>\n",
       "      <th>605</th>\n",
       "      <td>767884188863397888</td>\n",
       "      <td>2016-08-23 00:40:31</td>\n",
       "      <td>None,None,None,None</td>\n",
       "      <td>1533.0</td>\n",
       "      <td>5069.0</td>\n",
       "      <td>https://pbs.twimg.com/media/CqgSl4DWcAA-x-o.jpg</td>\n",
       "      <td>False</td>\n",
       "      <td>False</td>\n",
       "      <td>False</td>\n",
       "      <td>NaN</td>\n",
       "      <td>NaN</td>\n",
       "      <td>NaN</td>\n",
       "    </tr>\n",
       "    <tr>\n",
       "      <th>166</th>\n",
       "      <td>850380195714523136</td>\n",
       "      <td>2017-04-07 16:10:12</td>\n",
       "      <td>None,None,None,None</td>\n",
       "      <td>2758.0</td>\n",
       "      <td>13504.0</td>\n",
       "      <td>https://pbs.twimg.com/ext_tw_video_thumb/85038...</td>\n",
       "      <td>True</td>\n",
       "      <td>True</td>\n",
       "      <td>True</td>\n",
       "      <td>Yorkshire Terrier</td>\n",
       "      <td>0.249012</td>\n",
       "      <td>2.0</td>\n",
       "    </tr>\n",
       "    <tr>\n",
       "      <th>1775</th>\n",
       "      <td>669571471778410496</td>\n",
       "      <td>2015-11-25 17:40:53</td>\n",
       "      <td>None,None,None,None</td>\n",
       "      <td>1049.0</td>\n",
       "      <td>1614.0</td>\n",
       "      <td>https://pbs.twimg.com/media/CUrLsI-UsAALfUL.jpg</td>\n",
       "      <td>False</td>\n",
       "      <td>False</td>\n",
       "      <td>False</td>\n",
       "      <td>NaN</td>\n",
       "      <td>NaN</td>\n",
       "      <td>NaN</td>\n",
       "    </tr>\n",
       "    <tr>\n",
       "      <th>1123</th>\n",
       "      <td>696877980375769088</td>\n",
       "      <td>2016-02-09 02:07:12</td>\n",
       "      <td>None,None,pupper,None</td>\n",
       "      <td>761.0</td>\n",
       "      <td>2565.0</td>\n",
       "      <td>https://pbs.twimg.com/media/CavO0uuWEAE96Ed.jpg</td>\n",
       "      <td>False</td>\n",
       "      <td>False</td>\n",
       "      <td>False</td>\n",
       "      <td>NaN</td>\n",
       "      <td>NaN</td>\n",
       "      <td>NaN</td>\n",
       "    </tr>\n",
       "    <tr>\n",
       "      <th>743</th>\n",
       "      <td>747816857231626240</td>\n",
       "      <td>2016-06-28 15:40:07</td>\n",
       "      <td>None,None,None,None</td>\n",
       "      <td>1253.0</td>\n",
       "      <td>5122.0</td>\n",
       "      <td>https://pbs.twimg.com/media/CmDHdCoWkAACTB4.jpg</td>\n",
       "      <td>True</td>\n",
       "      <td>True</td>\n",
       "      <td>True</td>\n",
       "      <td>Pembroke</td>\n",
       "      <td>0.768923</td>\n",
       "      <td>4.0</td>\n",
       "    </tr>\n",
       "  </tbody>\n",
       "</table>\n",
       "</div>"
      ],
      "text/plain": [
       "                tweet_id           timestamp              dog_stage  \\\n",
       "1261  685641971164143616 2016-01-09 01:59:19  None,None,pupper,None   \n",
       "1602  672964561327235073 2015-12-05 02:23:49    None,None,None,None   \n",
       "1065  701889187134500865 2016-02-22 21:59:57    None,None,None,None   \n",
       "1907  667090893657276420 2015-11-18 21:23:57    None,None,None,None   \n",
       "1016  706593038911545345 2016-03-06 21:31:22    None,None,None,None   \n",
       "605   767884188863397888 2016-08-23 00:40:31    None,None,None,None   \n",
       "166   850380195714523136 2017-04-07 16:10:12    None,None,None,None   \n",
       "1775  669571471778410496 2015-11-25 17:40:53    None,None,None,None   \n",
       "1123  696877980375769088 2016-02-09 02:07:12  None,None,pupper,None   \n",
       "743   747816857231626240 2016-06-28 15:40:07    None,None,None,None   \n",
       "\n",
       "      retweet_count  favorite_count  \\\n",
       "1261          835.0          3091.0   \n",
       "1602          662.0          1450.0   \n",
       "1065         1471.0          3746.0   \n",
       "1907          129.0           336.0   \n",
       "1016          670.0          2265.0   \n",
       "605          1533.0          5069.0   \n",
       "166          2758.0         13504.0   \n",
       "1775         1049.0          1614.0   \n",
       "1123          761.0          2565.0   \n",
       "743          1253.0          5122.0   \n",
       "\n",
       "                                                jpg_url  p1_dog  p2_dog  \\\n",
       "1261    https://pbs.twimg.com/media/CYPjvFqW8AAgiP2.jpg    True    True   \n",
       "1602    https://pbs.twimg.com/media/CVbZsouWUAIsxMc.jpg    True    True   \n",
       "1065    https://pbs.twimg.com/media/Cb2cfd9WAAEL-zk.jpg    True    True   \n",
       "1907    https://pbs.twimg.com/media/CUH7oLuUsAELWib.jpg    True    True   \n",
       "1016    https://pbs.twimg.com/media/Cc5Snc7XIAAMidF.jpg   False   False   \n",
       "605     https://pbs.twimg.com/media/CqgSl4DWcAA-x-o.jpg   False   False   \n",
       "166   https://pbs.twimg.com/ext_tw_video_thumb/85038...    True    True   \n",
       "1775    https://pbs.twimg.com/media/CUrLsI-UsAALfUL.jpg   False   False   \n",
       "1123    https://pbs.twimg.com/media/CavO0uuWEAE96Ed.jpg   False   False   \n",
       "743     https://pbs.twimg.com/media/CmDHdCoWkAACTB4.jpg    True    True   \n",
       "\n",
       "      p3_dog           dog_pred  dog_pred_conf  pred_categories  \n",
       "1261   False   Lakeland Terrier       0.253839              2.0  \n",
       "1602    True          Chihuahua       0.292343              2.0  \n",
       "1065   False     French Bulldog       0.902856              5.0  \n",
       "1907    True          Chihuahua       0.959514              5.0  \n",
       "1016   False                NaN            NaN              NaN  \n",
       "605    False                NaN            NaN              NaN  \n",
       "166     True  Yorkshire Terrier       0.249012              2.0  \n",
       "1775   False                NaN            NaN              NaN  \n",
       "1123   False                NaN            NaN              NaN  \n",
       "743     True           Pembroke       0.768923              4.0  "
      ]
     },
     "execution_count": 84,
     "metadata": {},
     "output_type": "execute_result"
    }
   ],
   "source": [
    "df_combined_master['pred_categories'] = pd.cut(df_combined_master['dog_pred_conf'], 5, labels=[1, 2, 3, 4, 5])\n",
    "df_combined_master['pred_categories'] = pd.to_numeric(df_combined_master['pred_categories'])\n",
    "df_combined_master.sample(10)"
   ]
  },
  {
   "cell_type": "markdown",
   "metadata": {},
   "source": [
    "#### Define - Quality: Drop NA rows in dataframe  <a name='clean16'></a>"
   ]
  },
  {
   "cell_type": "markdown",
   "metadata": {},
   "source": [
    "#### Code"
   ]
  },
  {
   "cell_type": "code",
   "execution_count": 101,
   "metadata": {},
   "outputs": [],
   "source": [
    "df_combined_master.dropna(inplace=True)"
   ]
  },
  {
   "cell_type": "markdown",
   "metadata": {},
   "source": [
    "#### Test"
   ]
  },
  {
   "cell_type": "code",
   "execution_count": 105,
   "metadata": {},
   "outputs": [
    {
     "name": "stdout",
     "output_type": "stream",
     "text": [
      "<class 'pandas.core.frame.DataFrame'>\n",
      "Int64Index: 1662 entries, 1 to 1965\n",
      "Data columns (total 12 columns):\n",
      "tweet_id           1662 non-null int64\n",
      "timestamp          1662 non-null datetime64[ns]\n",
      "dog_stage          1662 non-null object\n",
      "retweet_count      1662 non-null float64\n",
      "favorite_count     1662 non-null float64\n",
      "jpg_url            1662 non-null object\n",
      "p1_dog             1662 non-null bool\n",
      "p2_dog             1662 non-null bool\n",
      "p3_dog             1662 non-null bool\n",
      "dog_pred           1662 non-null object\n",
      "dog_pred_conf      1662 non-null float64\n",
      "pred_categories    1662 non-null float64\n",
      "dtypes: bool(3), datetime64[ns](1), float64(4), int64(1), object(3)\n",
      "memory usage: 134.7+ KB\n"
     ]
    }
   ],
   "source": [
    "df_combined_master.info()"
   ]
  },
  {
   "cell_type": "markdown",
   "metadata": {},
   "source": [
    "### Analyze  <a name='analyze'></a>"
   ]
  },
  {
   "cell_type": "code",
   "execution_count": 85,
   "metadata": {},
   "outputs": [
    {
     "name": "stdout",
     "output_type": "stream",
     "text": [
      "<class 'pandas.core.frame.DataFrame'>\n",
      "Int64Index: 1966 entries, 0 to 2096\n",
      "Data columns (total 5 columns):\n",
      "tweet_id          1966 non-null int64\n",
      "timestamp         1966 non-null datetime64[ns]\n",
      "dog_stage         1966 non-null object\n",
      "retweet_count     1966 non-null float64\n",
      "favorite_count    1966 non-null float64\n",
      "dtypes: datetime64[ns](1), float64(2), int64(1), object(1)\n",
      "memory usage: 92.2+ KB\n"
     ]
    }
   ],
   "source": [
    "df_twitter_final.info()"
   ]
  },
  {
   "cell_type": "code",
   "execution_count": 86,
   "metadata": {},
   "outputs": [
    {
     "data": {
      "text/plain": [
       "pred_categories\n",
       "1.0    0.158845\n",
       "2.0    0.189531\n",
       "3.0    0.194946\n",
       "4.0    0.180505\n",
       "5.0    0.276173\n",
       "Name: pred_categories, dtype: float64"
      ]
     },
     "execution_count": 86,
     "metadata": {},
     "output_type": "execute_result"
    }
   ],
   "source": [
    "df_combined_master.groupby(['pred_categories'])['pred_categories'].count()/df_combined_master['pred_categories'].count()"
   ]
  },
  {
   "cell_type": "code",
   "execution_count": 87,
   "metadata": {},
   "outputs": [
    {
     "name": "stdout",
     "output_type": "stream",
     "text": [
      "<class 'pandas.core.frame.DataFrame'>\n",
      "RangeIndex: 2075 entries, 0 to 2074\n",
      "Data columns (total 7 columns):\n",
      "tweet_id         2075 non-null int64\n",
      "jpg_url          2075 non-null object\n",
      "p1_dog           2075 non-null bool\n",
      "p2_dog           2075 non-null bool\n",
      "p3_dog           2075 non-null bool\n",
      "dog_pred         1751 non-null object\n",
      "dog_pred_conf    1751 non-null float64\n",
      "dtypes: bool(3), float64(1), int64(1), object(2)\n",
      "memory usage: 71.0+ KB\n"
     ]
    }
   ],
   "source": [
    "df_image_pred_final.info()"
   ]
  },
  {
   "cell_type": "code",
   "execution_count": 88,
   "metadata": {},
   "outputs": [
    {
     "name": "stdout",
     "output_type": "stream",
     "text": [
      "<class 'pandas.core.frame.DataFrame'>\n",
      "Int64Index: 1966 entries, 0 to 1965\n",
      "Data columns (total 12 columns):\n",
      "tweet_id           1966 non-null int64\n",
      "timestamp          1966 non-null datetime64[ns]\n",
      "dog_stage          1966 non-null object\n",
      "retweet_count      1966 non-null float64\n",
      "favorite_count     1966 non-null float64\n",
      "jpg_url            1966 non-null object\n",
      "p1_dog             1966 non-null bool\n",
      "p2_dog             1966 non-null bool\n",
      "p3_dog             1966 non-null bool\n",
      "dog_pred           1662 non-null object\n",
      "dog_pred_conf      1662 non-null float64\n",
      "pred_categories    1662 non-null float64\n",
      "dtypes: bool(3), datetime64[ns](1), float64(4), int64(1), object(3)\n",
      "memory usage: 159.4+ KB\n"
     ]
    }
   ],
   "source": [
    "df_combined_master.info()"
   ]
  },
  {
   "cell_type": "code",
   "execution_count": 89,
   "metadata": {},
   "outputs": [],
   "source": [
    "#write dataframes to files\n",
    "df_twitter_final.to_csv('df_twitter_final.csv',index=False)\n",
    "df_image_pred_final.to_csv('df_image_pred_final.csv',index=False)\n",
    "df_combined_master.to_csv('twitter_archive_master.csv',index=False)"
   ]
  },
  {
   "cell_type": "markdown",
   "metadata": {},
   "source": [
    "#### 1. Does the dog prediction confidence level have any relation to the number of retweets or favorites? <a name='question1'></a>"
   ]
  },
  {
   "cell_type": "code",
   "execution_count": 106,
   "metadata": {},
   "outputs": [
    {
     "data": {
      "image/png": "[encoded data removed]",
      "text/plain": [
       "<Figure size 720x360 with 1 Axes>"
      ]
     },
     "metadata": {},
     "output_type": "display_data"
    }
   ],
   "source": [
    "#fig, ax = plt.subplots();\n",
    "retweet = df_combined_master.groupby(['pred_categories'])['retweet_count'].sum()\n",
    "favorite = df_combined_master.groupby(['pred_categories'])['favorite_count'].sum()\n",
    "categories = df_combined_master['pred_categories'].unique()\n",
    "\n",
    "df_sums = pd.DataFrame({'Retweet': retweet, 'Favorite': favorite}, index=categories)\n",
    "\n",
    "#y = df_combined_master.groupby(['pred_categories'])['retweet_count'].sum()\n",
    "\n",
    "ax = df_sums.plot.bar(figsize=(10,5))\n",
    "\n",
    "ax.set_xlabel('Prediction Confidence Categories')\n",
    "ax.set_xticklabels(['Very Low','Low','Med','High','Very High'])\n",
    "ax.set_ylabel('Total Retweets')\n",
    "ax.set_title('Dog Retweets by Prediction Confidence Categories');"
   ]
  },
  {
   "cell_type": "code",
   "execution_count": 117,
   "metadata": {},
   "outputs": [
    {
     "data": {
      "text/plain": [
       "(pred_categories\n",
       " 1.0     724632.0\n",
       " 2.0     812402.0\n",
       " 3.0     843549.0\n",
       " 4.0     756040.0\n",
       " 5.0    1410919.0\n",
       " Name: retweet_count, dtype: float64,\n",
       " array([2., 4., 1., 3., 5.]),\n",
       " pred_categories\n",
       " 1.0    2191100.0\n",
       " 2.0    2702878.0\n",
       " 3.0    2842052.0\n",
       " 4.0    2668863.0\n",
       " 5.0    4827354.0\n",
       " Name: favorite_count, dtype: float64,\n",
       " array([2., 4., 1., 3., 5.]))"
      ]
     },
     "execution_count": 117,
     "metadata": {},
     "output_type": "execute_result"
    }
   ],
   "source": [
    "retweet, categories, favorite, categories"
   ]
  },
  {
   "cell_type": "markdown",
   "metadata": {},
   "source": [
    "#### 2. Has the prediction confidence changed over time?  <a name='question2'></a>"
   ]
  },
  {
   "cell_type": "code",
   "execution_count": 107,
   "metadata": {},
   "outputs": [
    {
     "data": {
      "image/png": "[encoded data removed]",
      "text/plain": [
       "<Figure size 1440x432 with 1 Axes>"
      ]
     },
     "metadata": {},
     "output_type": "display_data"
    }
   ],
   "source": [
    "#get specific data for graph\n",
    "data = df_combined_master[['timestamp','pred_categories']]\n",
    "data = pd.DataFrame(data=data)\n",
    "\n",
    "#remove the time in the timestamp\n",
    "data['date'] = pd.DatetimeIndex(data.timestamp).normalize()\n",
    "\n",
    "#change data type\n",
    "data['pred_categories'] = pd.to_numeric(data['pred_categories'])\n",
    "\n",
    "df_time_cat = data.groupby('date')['pred_categories'].mean()\n",
    "df_time_cat = pd.DataFrame(data=df_time_cat)\n",
    "\n",
    "fig, ax = plt.subplots();\n",
    "\n",
    "df_time_cat['pred_categories'].plot(color='blue',label='Prediction Categories', figsize=(20,6))\n",
    "\n",
    "ax.set_xlabel('Time')\n",
    "ax.set_ylabel('Prediction Confidence Average')\n",
    "ax.set_title('Average Prediction Confidence Score over Time');"
   ]
  },
  {
   "cell_type": "code",
   "execution_count": 108,
   "metadata": {},
   "outputs": [
    {
     "data": {
      "text/plain": [
       "3.2256317689530687"
      ]
     },
     "execution_count": 108,
     "metadata": {},
     "output_type": "execute_result"
    }
   ],
   "source": [
    "# overall average\n",
    "data['pred_categories'].mean()"
   ]
  },
  {
   "cell_type": "markdown",
   "metadata": {},
   "source": [
    "#### 3. What types of dogs are the most popular on the site?  <a name='question3'></a>"
   ]
  },
  {
   "cell_type": "code",
   "execution_count": 109,
   "metadata": {},
   "outputs": [
    {
     "data": {
      "image/png": "[encoded data removed]",
      "text/plain": [
       "<Figure size 432x288 with 1 Axes>"
      ]
     },
     "metadata": {},
     "output_type": "display_data"
    }
   ],
   "source": [
    "# most retweeted dogs\n",
    "retweet_sum = df_combined_master.groupby('dog_pred')['retweet_count'].sum()\n",
    "ax = retweet_sum.sort_values(ascending=False)[:10].plot.bar()\n",
    "ax.set_xlabel('Predicted Dog Type')\n",
    "ax.set_ylabel('Retweet Counts')\n",
    "ax.set_title('Top 10 Dogs by Retweet Counts');"
   ]
  },
  {
   "cell_type": "code",
   "execution_count": 114,
   "metadata": {},
   "outputs": [
    {
     "data": {
      "text/plain": [
       "dog_pred\n",
       "Golden Retriever      561591.0\n",
       "Labrador Retriever    392047.0\n",
       "Pembroke              278983.0\n",
       "Chihuahua             247281.0\n",
       "Samoyed               191958.0\n",
       "French Bulldog        155694.0\n",
       "Cocker Spaniel        140600.0\n",
       "Chow                  126892.0\n",
       "Pug                   112181.0\n",
       "Toy Poodle            109446.0\n",
       "Name: retweet_count, dtype: float64"
      ]
     },
     "execution_count": 114,
     "metadata": {},
     "output_type": "execute_result"
    }
   ],
   "source": [
    "retweet_sum.sort_values(ascending=False)[:10]"
   ]
  },
  {
   "cell_type": "code",
   "execution_count": 110,
   "metadata": {},
   "outputs": [
    {
     "data": {
      "image/png": "[encoded data removed]",
      "text/plain": [
       "<Figure size 432x288 with 1 Axes>"
      ]
     },
     "metadata": {},
     "output_type": "display_data"
    }
   ],
   "source": [
    "# most favorited dogs\n",
    "favorite_sum = df_combined_master.groupby('dog_pred')['favorite_count'].sum()\n",
    "ax_fav = favorite_sum.sort_values(ascending=False)[:10].plot.bar()\n",
    "ax_fav.set_xlabel('Predicted Dog Type')\n",
    "ax_fav.set_ylabel('Favorite Counts')\n",
    "ax_fav.set_title('Top 10 Dogs by Favorite Counts');"
   ]
  },
  {
   "cell_type": "code",
   "execution_count": 115,
   "metadata": {},
   "outputs": [
    {
     "data": {
      "text/plain": [
       "dog_pred\n",
       "Golden Retriever      1896894.0\n",
       "Labrador Retriever    1255976.0\n",
       "Pembroke              1019732.0\n",
       "Chihuahua              750738.0\n",
       "French Bulldog         591064.0\n",
       "Samoyed                562130.0\n",
       "Chow                   441153.0\n",
       "Cocker Spaniel         399825.0\n",
       "Pug                    369305.0\n",
       "Malamute               344943.0\n",
       "Name: favorite_count, dtype: float64"
      ]
     },
     "execution_count": 115,
     "metadata": {},
     "output_type": "execute_result"
    }
   ],
   "source": [
    "favorite_sum.sort_values(ascending=False)[:10]"
   ]
  },
  {
   "cell_type": "code",
   "execution_count": 111,
   "metadata": {},
   "outputs": [
    {
     "data": {
      "image/png": "[encoded data removed]",
      "text/plain": [
       "<Figure size 432x288 with 1 Axes>"
      ]
     },
     "metadata": {},
     "output_type": "display_data"
    }
   ],
   "source": [
    "# most posted dogs\n",
    "dog_sum = df_combined_master.groupby('dog_pred')['dog_pred'].count()\n",
    "ax_dog = dog_sum.sort_values(ascending=False)[:10].plot.bar()\n",
    "ax_dog.set_xlabel('Predicted Dog Type')\n",
    "ax_dog.set_ylabel('Total Predictions')\n",
    "ax_dog.set_title('Top 10 Dogs by Prediction Type Counts');"
   ]
  },
  {
   "cell_type": "code",
   "execution_count": 116,
   "metadata": {},
   "outputs": [
    {
     "data": {
      "text/plain": [
       "dog_pred\n",
       "Golden Retriever      155\n",
       "Labrador Retriever    106\n",
       "Pembroke               94\n",
       "Chihuahua              89\n",
       "Pug                    62\n",
       "Toy Poodle             50\n",
       "Chow                   48\n",
       "Samoyed                42\n",
       "Pomeranian             41\n",
       "Malamute               33\n",
       "Name: dog_pred, dtype: int64"
      ]
     },
     "execution_count": 116,
     "metadata": {},
     "output_type": "execute_result"
    }
   ],
   "source": [
    "dog_sum.sort_values(ascending=False)[:10]"
   ]
  }
 ],
 "metadata": {
  "kernelspec": {
   "display_name": "Python [default]",
   "language": "python",
   "name": "python3"
  },
  "language_info": {
   "codemirror_mode": {
    "name": "ipython",
    "version": 3
   },
   "file_extension": ".py",
   "mimetype": "text/x-python",
   "name": "python",
   "nbconvert_exporter": "python",
   "pygments_lexer": "ipython3",
   "version": "3.6.6"
  }
 },
 "nbformat": 4,
 "nbformat_minor": 2
}
